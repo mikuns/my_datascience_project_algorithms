{
  "nbformat": 4,
  "nbformat_minor": 0,
  "metadata": {
    "kernelspec": {
      "name": "python3",
      "display_name": "Python 3"
    },
    "language_info": {
      "codemirror_mode": {
        "name": "ipython",
        "version": 3
      },
      "file_extension": ".py",
      "mimetype": "text/x-python",
      "name": "python",
      "nbconvert_exporter": "python",
      "pygments_lexer": "ipython3",
      "version": "3.7.3"
    },
    "colab": {
      "name": "DSN Bootcamp Entry Competition.ipynb",
      "provenance": [],
      "collapsed_sections": []
    },
    "accelerator": "TPU"
  },
  "cells": [
    {
      "cell_type": "code",
      "metadata": {
        "id": "lryx4SMXeykj",
        "colab_type": "code",
        "outputId": "23d2664e-3c0b-40f9-9f20-678f7dd4e53a",
        "colab": {
          "resources": {
            "http://localhost:8080/nbextensions/google.colab/files.js": {
              "data": "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",
              "ok": true,
              "headers": [
                [
                  "content-type",
                  "application/javascript"
                ]
              ],
              "status": 200,
              "status_text": "OK"
            }
          },
          "base_uri": "https://localhost:8080/",
          "height": 93
        }
      },
      "source": [
        "#UPLOAD KAGGLE API KEY\n",
        "\n",
        "from google.colab import files\n",
        "files.upload()"
      ],
      "execution_count": 0,
      "outputs": [
        {
          "output_type": "display_data",
          "data": {
            "text/html": [
              "\n",
              "     <input type=\"file\" id=\"files-ec7449c0-4fbf-4608-a165-b7a0cc023030\" name=\"files[]\" multiple disabled />\n",
              "     <output id=\"result-ec7449c0-4fbf-4608-a165-b7a0cc023030\">\n",
              "      Upload widget is only available when the cell has been executed in the\n",
              "      current browser session. Please rerun this cell to enable.\n",
              "      </output>\n",
              "      <script src=\"/nbextensions/google.colab/files.js\"></script> "
            ],
            "text/plain": [
              "<IPython.core.display.HTML object>"
            ]
          },
          "metadata": {
            "tags": []
          }
        },
        {
          "output_type": "stream",
          "text": [
            "Saving kaggle.json to kaggle.json\n"
          ],
          "name": "stdout"
        },
        {
          "output_type": "execute_result",
          "data": {
            "text/plain": [
              "{'kaggle.json': b'{\"username\":\"mikuns\",\"key\":\"**************************\"}'}"
            ]
          },
          "metadata": {
            "tags": []
          },
          "execution_count": 4
        }
      ]
    },
    {
      "cell_type": "code",
      "metadata": {
        "id": "XObm4xdyeylX",
        "colab_type": "code",
        "colab": {}
      },
      "source": [
        "#INITIATING KAGGLE\n",
        "\n",
        "!pip install -q kaggle\n",
        "!mkdir -p ~/.kaggle\n",
        "!cp kaggle.json ~/.kaggle\n",
        "!chmod 600 /root/.kaggle/kaggle.json"
      ],
      "execution_count": 0,
      "outputs": []
    },
    {
      "cell_type": "code",
      "metadata": {
        "id": "7W0wVcV3eylk",
        "colab_type": "code",
        "outputId": "1ed779f0-bd1f-4fed-f6a1-424901dca69f",
        "colab": {
          "base_uri": "https://localhost:8080/",
          "height": 201
        }
      },
      "source": [
        "#LOADING DSN DATASET \n",
        "\n",
        "!kaggle competitions download -c intercampusai2019"
      ],
      "execution_count": 0,
      "outputs": [
        {
          "output_type": "stream",
          "text": [
            "Warning: Looks like you're using an outdated API Version, please consider updating (server 1.5.6 / client 1.5.4)\n",
            "Downloading test.csv.zip to /content\n",
            "  0% 0.00/234k [00:00<?, ?B/s]\n",
            "100% 234k/234k [00:00<00:00, 35.8MB/s]\n",
            "Downloading sample_submission2.csv to /content\n",
            "  0% 0.00/242k [00:00<?, ?B/s]\n",
            "100% 242k/242k [00:00<00:00, 76.8MB/s]\n",
            "Downloading train.csv.zip to /content\n",
            "  0% 0.00/541k [00:00<?, ?B/s]\n",
            "100% 541k/541k [00:00<00:00, 35.2MB/s]\n"
          ],
          "name": "stdout"
        }
      ]
    },
    {
      "cell_type": "code",
      "metadata": {
        "id": "1ZeaW0sReylu",
        "colab_type": "code",
        "colab": {}
      },
      "source": [
        "#IMPORTING LIBRARIES\n",
        "\n",
        "import numpy as np\n",
        "import pandas as pd\n",
        "import matplotlib.pyplot as plt\n",
        "import seaborn as sns\n",
        "from sklearn.feature_selection import SelectKBest\n",
        "from sklearn.feature_selection import chi2\n",
        "from sklearn.preprocessing import LabelEncoder\n",
        "from sklearn.model_selection import train_test_split\n",
        "from sklearn import metrics\n",
        "from sklearn.model_selection import GridSearchCV\n",
        "from scipy import stats\n",
        "from scipy.stats import norm, skew\n",
        "from xgboost import XGBClassifier\n",
        "\n",
        "#CONFIG\n",
        "color = sns.color_palette()\n",
        "sns.set_style('darkgrid')\n"
      ],
      "execution_count": 0,
      "outputs": []
    },
    {
      "cell_type": "code",
      "metadata": {
        "id": "3wvhFJOreymD",
        "colab_type": "code",
        "outputId": "5f58336d-ee7c-4c77-ba93-f736f791c176",
        "colab": {
          "base_uri": "https://localhost:8080/",
          "height": 697
        }
      },
      "source": [
        "#INITIATING TRAINING AND TEST DATA\n",
        "\n",
        "training_data = pd.read_csv(\"train.csv.zip\")\n",
        "test_data = pd.read_csv(\"test.csv.zip\")\n",
        "training_data.head().T"
      ],
      "execution_count": 0,
      "outputs": [
        {
          "output_type": "execute_result",
          "data": {
            "text/html": [
              "<div>\n",
              "<style scoped>\n",
              "    .dataframe tbody tr th:only-of-type {\n",
              "        vertical-align: middle;\n",
              "    }\n",
              "\n",
              "    .dataframe tbody tr th {\n",
              "        vertical-align: top;\n",
              "    }\n",
              "\n",
              "    .dataframe thead th {\n",
              "        text-align: right;\n",
              "    }\n",
              "</style>\n",
              "<table border=\"1\" class=\"dataframe\">\n",
              "  <thead>\n",
              "    <tr style=\"text-align: right;\">\n",
              "      <th></th>\n",
              "      <th>0</th>\n",
              "      <th>1</th>\n",
              "      <th>2</th>\n",
              "      <th>3</th>\n",
              "      <th>4</th>\n",
              "    </tr>\n",
              "  </thead>\n",
              "  <tbody>\n",
              "    <tr>\n",
              "      <th>EmployeeNo</th>\n",
              "      <td>YAK/S/00001</td>\n",
              "      <td>YAK/S/00002</td>\n",
              "      <td>YAK/S/00003</td>\n",
              "      <td>YAK/S/00004</td>\n",
              "      <td>YAK/S/00006</td>\n",
              "    </tr>\n",
              "    <tr>\n",
              "      <th>Division</th>\n",
              "      <td>Commercial Sales and Marketing</td>\n",
              "      <td>Customer Support and Field Operations</td>\n",
              "      <td>Commercial Sales and Marketing</td>\n",
              "      <td>Commercial Sales and Marketing</td>\n",
              "      <td>Information and Strategy</td>\n",
              "    </tr>\n",
              "    <tr>\n",
              "      <th>Qualification</th>\n",
              "      <td>MSc, MBA and PhD</td>\n",
              "      <td>First Degree or HND</td>\n",
              "      <td>First Degree or HND</td>\n",
              "      <td>First Degree or HND</td>\n",
              "      <td>First Degree or HND</td>\n",
              "    </tr>\n",
              "    <tr>\n",
              "      <th>Gender</th>\n",
              "      <td>Female</td>\n",
              "      <td>Male</td>\n",
              "      <td>Male</td>\n",
              "      <td>Male</td>\n",
              "      <td>Male</td>\n",
              "    </tr>\n",
              "    <tr>\n",
              "      <th>Channel_of_Recruitment</th>\n",
              "      <td>Direct Internal process</td>\n",
              "      <td>Agency and others</td>\n",
              "      <td>Direct Internal process</td>\n",
              "      <td>Agency and others</td>\n",
              "      <td>Direct Internal process</td>\n",
              "    </tr>\n",
              "    <tr>\n",
              "      <th>Trainings_Attended</th>\n",
              "      <td>2</td>\n",
              "      <td>2</td>\n",
              "      <td>2</td>\n",
              "      <td>3</td>\n",
              "      <td>3</td>\n",
              "    </tr>\n",
              "    <tr>\n",
              "      <th>Year_of_birth</th>\n",
              "      <td>1986</td>\n",
              "      <td>1991</td>\n",
              "      <td>1987</td>\n",
              "      <td>1982</td>\n",
              "      <td>1990</td>\n",
              "    </tr>\n",
              "    <tr>\n",
              "      <th>Last_performance_score</th>\n",
              "      <td>12.5</td>\n",
              "      <td>12.5</td>\n",
              "      <td>7.5</td>\n",
              "      <td>2.5</td>\n",
              "      <td>7.5</td>\n",
              "    </tr>\n",
              "    <tr>\n",
              "      <th>Year_of_recruitment</th>\n",
              "      <td>2011</td>\n",
              "      <td>2015</td>\n",
              "      <td>2012</td>\n",
              "      <td>2009</td>\n",
              "      <td>2012</td>\n",
              "    </tr>\n",
              "    <tr>\n",
              "      <th>Targets_met</th>\n",
              "      <td>1</td>\n",
              "      <td>0</td>\n",
              "      <td>0</td>\n",
              "      <td>0</td>\n",
              "      <td>0</td>\n",
              "    </tr>\n",
              "    <tr>\n",
              "      <th>Previous_Award</th>\n",
              "      <td>0</td>\n",
              "      <td>0</td>\n",
              "      <td>0</td>\n",
              "      <td>0</td>\n",
              "      <td>0</td>\n",
              "    </tr>\n",
              "    <tr>\n",
              "      <th>Training_score_average</th>\n",
              "      <td>41</td>\n",
              "      <td>52</td>\n",
              "      <td>42</td>\n",
              "      <td>42</td>\n",
              "      <td>77</td>\n",
              "    </tr>\n",
              "    <tr>\n",
              "      <th>State_Of_Origin</th>\n",
              "      <td>ANAMBRA</td>\n",
              "      <td>ANAMBRA</td>\n",
              "      <td>KATSINA</td>\n",
              "      <td>NIGER</td>\n",
              "      <td>AKWA IBOM</td>\n",
              "    </tr>\n",
              "    <tr>\n",
              "      <th>Foreign_schooled</th>\n",
              "      <td>No</td>\n",
              "      <td>Yes</td>\n",
              "      <td>Yes</td>\n",
              "      <td>Yes</td>\n",
              "      <td>Yes</td>\n",
              "    </tr>\n",
              "    <tr>\n",
              "      <th>Marital_Status</th>\n",
              "      <td>Married</td>\n",
              "      <td>Married</td>\n",
              "      <td>Married</td>\n",
              "      <td>Single</td>\n",
              "      <td>Married</td>\n",
              "    </tr>\n",
              "    <tr>\n",
              "      <th>Past_Disciplinary_Action</th>\n",
              "      <td>No</td>\n",
              "      <td>No</td>\n",
              "      <td>No</td>\n",
              "      <td>No</td>\n",
              "      <td>No</td>\n",
              "    </tr>\n",
              "    <tr>\n",
              "      <th>Previous_IntraDepartmental_Movement</th>\n",
              "      <td>No</td>\n",
              "      <td>No</td>\n",
              "      <td>No</td>\n",
              "      <td>No</td>\n",
              "      <td>No</td>\n",
              "    </tr>\n",
              "    <tr>\n",
              "      <th>No_of_previous_employers</th>\n",
              "      <td>0</td>\n",
              "      <td>0</td>\n",
              "      <td>0</td>\n",
              "      <td>1</td>\n",
              "      <td>1</td>\n",
              "    </tr>\n",
              "    <tr>\n",
              "      <th>Promoted_or_Not</th>\n",
              "      <td>0</td>\n",
              "      <td>0</td>\n",
              "      <td>0</td>\n",
              "      <td>0</td>\n",
              "      <td>0</td>\n",
              "    </tr>\n",
              "  </tbody>\n",
              "</table>\n",
              "</div>"
            ],
            "text/plain": [
              "                                                                  0  ...                         4\n",
              "EmployeeNo                                              YAK/S/00001  ...               YAK/S/00006\n",
              "Division                             Commercial Sales and Marketing  ...  Information and Strategy\n",
              "Qualification                                      MSc, MBA and PhD  ...       First Degree or HND\n",
              "Gender                                                       Female  ...                      Male\n",
              "Channel_of_Recruitment                      Direct Internal process  ...   Direct Internal process\n",
              "Trainings_Attended                                                2  ...                         3\n",
              "Year_of_birth                                                  1986  ...                      1990\n",
              "Last_performance_score                                         12.5  ...                       7.5\n",
              "Year_of_recruitment                                            2011  ...                      2012\n",
              "Targets_met                                                       1  ...                         0\n",
              "Previous_Award                                                    0  ...                         0\n",
              "Training_score_average                                           41  ...                        77\n",
              "State_Of_Origin                                             ANAMBRA  ...                 AKWA IBOM\n",
              "Foreign_schooled                                                 No  ...                       Yes\n",
              "Marital_Status                                              Married  ...                   Married\n",
              "Past_Disciplinary_Action                                         No  ...                        No\n",
              "Previous_IntraDepartmental_Movement                              No  ...                        No\n",
              "No_of_previous_employers                                          0  ...                         1\n",
              "Promoted_or_Not                                                   0  ...                         0\n",
              "\n",
              "[19 rows x 5 columns]"
            ]
          },
          "metadata": {
            "tags": []
          },
          "execution_count": 30
        }
      ]
    },
    {
      "cell_type": "markdown",
      "metadata": {
        "id": "uGKT-OH87N1H",
        "colab_type": "text"
      },
      "source": [
        "**DATA EXPLORATION**"
      ]
    },
    {
      "cell_type": "code",
      "metadata": {
        "id": "ti-6XAb6eymW",
        "colab_type": "code",
        "outputId": "41c071a4-de2f-41a3-a5e1-dadfe8548f90",
        "colab": {
          "base_uri": "https://localhost:8080/",
          "height": 54
        }
      },
      "source": [
        "print('Training Data',training_data.shape)\n",
        "print('Test Data', test_data.shape)"
      ],
      "execution_count": 0,
      "outputs": [
        {
          "output_type": "stream",
          "text": [
            "Training Data (38312, 19)\n",
            "Test Data (16496, 18)\n"
          ],
          "name": "stdout"
        }
      ]
    },
    {
      "cell_type": "code",
      "metadata": {
        "id": "oseQfgmpeyml",
        "colab_type": "code",
        "outputId": "fe4a5978-24fc-4cae-b155-09d562c99bd3",
        "colab": {
          "base_uri": "https://localhost:8080/",
          "height": 320
        }
      },
      "source": [
        "training_data.describe()"
      ],
      "execution_count": 0,
      "outputs": [
        {
          "output_type": "execute_result",
          "data": {
            "text/html": [
              "<div>\n",
              "<style scoped>\n",
              "    .dataframe tbody tr th:only-of-type {\n",
              "        vertical-align: middle;\n",
              "    }\n",
              "\n",
              "    .dataframe tbody tr th {\n",
              "        vertical-align: top;\n",
              "    }\n",
              "\n",
              "    .dataframe thead th {\n",
              "        text-align: right;\n",
              "    }\n",
              "</style>\n",
              "<table border=\"1\" class=\"dataframe\">\n",
              "  <thead>\n",
              "    <tr style=\"text-align: right;\">\n",
              "      <th></th>\n",
              "      <th>Trainings_Attended</th>\n",
              "      <th>Year_of_birth</th>\n",
              "      <th>Last_performance_score</th>\n",
              "      <th>Year_of_recruitment</th>\n",
              "      <th>Targets_met</th>\n",
              "      <th>Previous_Award</th>\n",
              "      <th>Training_score_average</th>\n",
              "      <th>Promoted_or_Not</th>\n",
              "    </tr>\n",
              "  </thead>\n",
              "  <tbody>\n",
              "    <tr>\n",
              "      <th>count</th>\n",
              "      <td>38312.000000</td>\n",
              "      <td>38312.000000</td>\n",
              "      <td>38312.000000</td>\n",
              "      <td>38312.000000</td>\n",
              "      <td>38312.000000</td>\n",
              "      <td>38312.000000</td>\n",
              "      <td>38312.000000</td>\n",
              "      <td>38312.000000</td>\n",
              "    </tr>\n",
              "    <tr>\n",
              "      <th>mean</th>\n",
              "      <td>2.253680</td>\n",
              "      <td>1986.209334</td>\n",
              "      <td>7.698959</td>\n",
              "      <td>2013.139695</td>\n",
              "      <td>0.352996</td>\n",
              "      <td>0.023152</td>\n",
              "      <td>55.366465</td>\n",
              "      <td>0.084595</td>\n",
              "    </tr>\n",
              "    <tr>\n",
              "      <th>std</th>\n",
              "      <td>0.609443</td>\n",
              "      <td>7.646047</td>\n",
              "      <td>3.744135</td>\n",
              "      <td>4.261451</td>\n",
              "      <td>0.477908</td>\n",
              "      <td>0.150388</td>\n",
              "      <td>13.362741</td>\n",
              "      <td>0.278282</td>\n",
              "    </tr>\n",
              "    <tr>\n",
              "      <th>min</th>\n",
              "      <td>2.000000</td>\n",
              "      <td>1950.000000</td>\n",
              "      <td>0.000000</td>\n",
              "      <td>1982.000000</td>\n",
              "      <td>0.000000</td>\n",
              "      <td>0.000000</td>\n",
              "      <td>31.000000</td>\n",
              "      <td>0.000000</td>\n",
              "    </tr>\n",
              "    <tr>\n",
              "      <th>25%</th>\n",
              "      <td>2.000000</td>\n",
              "      <td>1982.000000</td>\n",
              "      <td>5.000000</td>\n",
              "      <td>2012.000000</td>\n",
              "      <td>0.000000</td>\n",
              "      <td>0.000000</td>\n",
              "      <td>43.000000</td>\n",
              "      <td>0.000000</td>\n",
              "    </tr>\n",
              "    <tr>\n",
              "      <th>50%</th>\n",
              "      <td>2.000000</td>\n",
              "      <td>1988.000000</td>\n",
              "      <td>7.500000</td>\n",
              "      <td>2014.000000</td>\n",
              "      <td>0.000000</td>\n",
              "      <td>0.000000</td>\n",
              "      <td>52.000000</td>\n",
              "      <td>0.000000</td>\n",
              "    </tr>\n",
              "    <tr>\n",
              "      <th>75%</th>\n",
              "      <td>2.000000</td>\n",
              "      <td>1992.000000</td>\n",
              "      <td>10.000000</td>\n",
              "      <td>2016.000000</td>\n",
              "      <td>1.000000</td>\n",
              "      <td>0.000000</td>\n",
              "      <td>68.000000</td>\n",
              "      <td>0.000000</td>\n",
              "    </tr>\n",
              "    <tr>\n",
              "      <th>max</th>\n",
              "      <td>11.000000</td>\n",
              "      <td>2001.000000</td>\n",
              "      <td>12.500000</td>\n",
              "      <td>2018.000000</td>\n",
              "      <td>1.000000</td>\n",
              "      <td>1.000000</td>\n",
              "      <td>91.000000</td>\n",
              "      <td>1.000000</td>\n",
              "    </tr>\n",
              "  </tbody>\n",
              "</table>\n",
              "</div>"
            ],
            "text/plain": [
              "       Trainings_Attended  ...  Promoted_or_Not\n",
              "count        38312.000000  ...     38312.000000\n",
              "mean             2.253680  ...         0.084595\n",
              "std              0.609443  ...         0.278282\n",
              "min              2.000000  ...         0.000000\n",
              "25%              2.000000  ...         0.000000\n",
              "50%              2.000000  ...         0.000000\n",
              "75%              2.000000  ...         0.000000\n",
              "max             11.000000  ...         1.000000\n",
              "\n",
              "[8 rows x 8 columns]"
            ]
          },
          "metadata": {
            "tags": []
          },
          "execution_count": 32
        }
      ]
    },
    {
      "cell_type": "code",
      "metadata": {
        "id": "7WoS6Qjneymw",
        "colab_type": "code",
        "outputId": "2566889c-4986-479c-f01c-460a7b3d5981",
        "colab": {
          "base_uri": "https://localhost:8080/",
          "height": 715
        }
      },
      "source": [
        "test_data.isnull().any(), training_data.isnull().any()"
      ],
      "execution_count": 0,
      "outputs": [
        {
          "output_type": "execute_result",
          "data": {
            "text/plain": [
              "(EmployeeNo                             False\n",
              " Division                               False\n",
              " Qualification                           True\n",
              " Gender                                 False\n",
              " Channel_of_Recruitment                 False\n",
              " Trainings_Attended                     False\n",
              " Year_of_birth                          False\n",
              " Last_performance_score                 False\n",
              " Year_of_recruitment                    False\n",
              " Targets_met                            False\n",
              " Previous_Award                         False\n",
              " Training_score_average                 False\n",
              " State_Of_Origin                        False\n",
              " Foreign_schooled                       False\n",
              " Marital_Status                         False\n",
              " Past_Disciplinary_Action               False\n",
              " Previous_IntraDepartmental_Movement    False\n",
              " No_of_previous_employers               False\n",
              " dtype: bool, EmployeeNo                             False\n",
              " Division                               False\n",
              " Qualification                           True\n",
              " Gender                                 False\n",
              " Channel_of_Recruitment                 False\n",
              " Trainings_Attended                     False\n",
              " Year_of_birth                          False\n",
              " Last_performance_score                 False\n",
              " Year_of_recruitment                    False\n",
              " Targets_met                            False\n",
              " Previous_Award                         False\n",
              " Training_score_average                 False\n",
              " State_Of_Origin                        False\n",
              " Foreign_schooled                       False\n",
              " Marital_Status                         False\n",
              " Past_Disciplinary_Action               False\n",
              " Previous_IntraDepartmental_Movement    False\n",
              " No_of_previous_employers               False\n",
              " Promoted_or_Not                        False\n",
              " dtype: bool)"
            ]
          },
          "metadata": {
            "tags": []
          },
          "execution_count": 33
        }
      ]
    },
    {
      "cell_type": "code",
      "metadata": {
        "id": "ruYCOv4Jeym5",
        "colab_type": "code",
        "outputId": "9d4c3e29-b479-4e7f-fc66-7f7b59f2df6f",
        "colab": {
          "base_uri": "https://localhost:8080/",
          "height": 54
        }
      },
      "source": [
        "training_data['Qualification'].unique()"
      ],
      "execution_count": 0,
      "outputs": [
        {
          "output_type": "execute_result",
          "data": {
            "text/plain": [
              "array(['MSc, MBA and PhD', 'First Degree or HND', nan,\n",
              "       'Non-University Education'], dtype=object)"
            ]
          },
          "metadata": {
            "tags": []
          },
          "execution_count": 34
        }
      ]
    },
    {
      "cell_type": "code",
      "metadata": {
        "id": "o68XIj2SeynB",
        "colab_type": "code",
        "outputId": "16c7c0b0-f27d-4327-83a1-77743a5a45eb",
        "colab": {
          "base_uri": "https://localhost:8080/",
          "height": 72
        }
      },
      "source": [
        "training_data['Qualification'].isnull().value_counts()"
      ],
      "execution_count": 0,
      "outputs": [
        {
          "output_type": "execute_result",
          "data": {
            "text/plain": [
              "False    36633\n",
              "True      1679\n",
              "Name: Qualification, dtype: int64"
            ]
          },
          "metadata": {
            "tags": []
          },
          "execution_count": 35
        }
      ]
    },
    {
      "cell_type": "code",
      "metadata": {
        "id": "gWLQSH9seynm",
        "colab_type": "code",
        "outputId": "ffbd6dcc-1d08-4f5c-98fa-04e2a39d0a30",
        "colab": {
          "base_uri": "https://localhost:8080/",
          "height": 359
        }
      },
      "source": [
        "quali_null_data = training_data[training_data['Qualification'].isna()]\n",
        "\n",
        "# plt.rcParams['figure.figsize'] = [10, 5]\n",
        "# edu = pd.crosstab(quali_null_data.Qualification,quali_null_data.Foreign_schooled,normalize='index')\n",
        "# edu.plot.bar(stacked=True)\n",
        "# plt.rcParams['figure.figsize'] = [5, 5]\n",
        "# plt.legend(title='Foreign_schooled',bbox_to_anchor=(1,0.5))\n",
        "\n",
        "plt.rcParams['figure.figsize'] = [15, 5]\n",
        "edu = pd.crosstab(quali_null_data.Training_score_average,quali_null_data.Foreign_schooled,normalize='index')\n",
        "edu.plot.bar(stacked=True)\n",
        "plt.rcParams['figure.figsize'] = [15, 5]\n",
        "plt.legend(title='is_promoted',bbox_to_anchor=(1,0.5))"
      ],
      "execution_count": 0,
      "outputs": [
        {
          "output_type": "execute_result",
          "data": {
            "text/plain": [
              "<matplotlib.legend.Legend at 0x7f7cc857d7f0>"
            ]
          },
          "metadata": {
            "tags": []
          },
          "execution_count": 36
        },
        {
          "output_type": "display_data",
          "data": {
            "image/png": "[encoded data removed]",
            "text/plain": [
              "<Figure size 1080x360 with 1 Axes>"
            ]
          },
          "metadata": {
            "tags": []
          }
        }
      ]
    },
    {
      "cell_type": "code",
      "metadata": {
        "id": "iaWpkWgkeyns",
        "colab_type": "code",
        "colab": {}
      },
      "source": [
        "training_data['Qualification'].fillna(training_data['Qualification'].mode()[0], inplace=True)\n",
        "test_data['Qualification'].fillna(test_data['Qualification'].mode()[0], inplace=True)"
      ],
      "execution_count": 0,
      "outputs": []
    },
    {
      "cell_type": "code",
      "metadata": {
        "id": "5ZA-MUVzeynx",
        "colab_type": "code",
        "outputId": "ebdfb2ab-99a8-4c3b-e94d-6f6da8a5368d",
        "colab": {
          "base_uri": "https://localhost:8080/",
          "height": 54
        }
      },
      "source": [
        "training_data['Qualification'].unique()"
      ],
      "execution_count": 0,
      "outputs": [
        {
          "output_type": "execute_result",
          "data": {
            "text/plain": [
              "array(['MSc, MBA and PhD', 'First Degree or HND',\n",
              "       'Non-University Education'], dtype=object)"
            ]
          },
          "metadata": {
            "tags": []
          },
          "execution_count": 38
        }
      ]
    },
    {
      "cell_type": "code",
      "metadata": {
        "id": "E_yg5OXdeyoB",
        "colab_type": "code",
        "outputId": "22544c43-fe16-48d2-d3cc-39516d894e5e",
        "colab": {
          "base_uri": "https://localhost:8080/",
          "height": 135
        }
      },
      "source": [
        "#Abbreviating Words\n",
        "training_data.head(1)"
      ],
      "execution_count": 0,
      "outputs": [
        {
          "output_type": "execute_result",
          "data": {
            "text/html": [
              "<div>\n",
              "<style scoped>\n",
              "    .dataframe tbody tr th:only-of-type {\n",
              "        vertical-align: middle;\n",
              "    }\n",
              "\n",
              "    .dataframe tbody tr th {\n",
              "        vertical-align: top;\n",
              "    }\n",
              "\n",
              "    .dataframe thead th {\n",
              "        text-align: right;\n",
              "    }\n",
              "</style>\n",
              "<table border=\"1\" class=\"dataframe\">\n",
              "  <thead>\n",
              "    <tr style=\"text-align: right;\">\n",
              "      <th></th>\n",
              "      <th>EmployeeNo</th>\n",
              "      <th>Division</th>\n",
              "      <th>Qualification</th>\n",
              "      <th>Gender</th>\n",
              "      <th>Channel_of_Recruitment</th>\n",
              "      <th>Trainings_Attended</th>\n",
              "      <th>Year_of_birth</th>\n",
              "      <th>Last_performance_score</th>\n",
              "      <th>Year_of_recruitment</th>\n",
              "      <th>Targets_met</th>\n",
              "      <th>Previous_Award</th>\n",
              "      <th>Training_score_average</th>\n",
              "      <th>State_Of_Origin</th>\n",
              "      <th>Foreign_schooled</th>\n",
              "      <th>Marital_Status</th>\n",
              "      <th>Past_Disciplinary_Action</th>\n",
              "      <th>Previous_IntraDepartmental_Movement</th>\n",
              "      <th>No_of_previous_employers</th>\n",
              "      <th>Promoted_or_Not</th>\n",
              "    </tr>\n",
              "  </thead>\n",
              "  <tbody>\n",
              "    <tr>\n",
              "      <th>0</th>\n",
              "      <td>YAK/S/00001</td>\n",
              "      <td>Commercial Sales and Marketing</td>\n",
              "      <td>MSc, MBA and PhD</td>\n",
              "      <td>Female</td>\n",
              "      <td>Direct Internal process</td>\n",
              "      <td>2</td>\n",
              "      <td>1986</td>\n",
              "      <td>12.5</td>\n",
              "      <td>2011</td>\n",
              "      <td>1</td>\n",
              "      <td>0</td>\n",
              "      <td>41</td>\n",
              "      <td>ANAMBRA</td>\n",
              "      <td>No</td>\n",
              "      <td>Married</td>\n",
              "      <td>No</td>\n",
              "      <td>No</td>\n",
              "      <td>0</td>\n",
              "      <td>0</td>\n",
              "    </tr>\n",
              "  </tbody>\n",
              "</table>\n",
              "</div>"
            ],
            "text/plain": [
              "    EmployeeNo  ... Promoted_or_Not\n",
              "0  YAK/S/00001  ...               0\n",
              "\n",
              "[1 rows x 19 columns]"
            ]
          },
          "metadata": {
            "tags": []
          },
          "execution_count": 39
        }
      ]
    },
    {
      "cell_type": "code",
      "metadata": {
        "id": "UOb43przeyoM",
        "colab_type": "code",
        "outputId": "92ccbc8c-ae54-4787-a103-e68d2de78c44",
        "colab": {
          "base_uri": "https://localhost:8080/",
          "height": 109
        }
      },
      "source": [
        "training_data.select_dtypes(exclude=['int', 'float']).columns"
      ],
      "execution_count": 0,
      "outputs": [
        {
          "output_type": "execute_result",
          "data": {
            "text/plain": [
              "Index(['EmployeeNo', 'Division', 'Qualification', 'Gender',\n",
              "       'Channel_of_Recruitment', 'State_Of_Origin', 'Foreign_schooled',\n",
              "       'Marital_Status', 'Past_Disciplinary_Action',\n",
              "       'Previous_IntraDepartmental_Movement', 'No_of_previous_employers'],\n",
              "      dtype='object')"
            ]
          },
          "metadata": {
            "tags": []
          },
          "execution_count": 40
        }
      ]
    },
    {
      "cell_type": "code",
      "metadata": {
        "id": "5oku6jF0eyoV",
        "colab_type": "code",
        "colab": {}
      },
      "source": [
        "training_data['Age'] = 2019 - training_data['Year_of_birth']\n",
        "test_data['Age'] = 2019 - test_data['Year_of_birth']\n",
        "training_data['service_years'] = 2019 - training_data['Year_of_recruitment']\n",
        "test_data['service_years'] = 2019 - test_data['Year_of_recruitment']"
      ],
      "execution_count": 0,
      "outputs": []
    },
    {
      "cell_type": "code",
      "metadata": {
        "id": "lXHTZuobeyoc",
        "colab_type": "code",
        "colab": {}
      },
      "source": [
        "#dropping Year_of_recruitment and Year_of_birth\n",
        "training_data.drop('Year_of_recruitment', axis = 1, inplace = True)\n",
        "test_data.drop('Year_of_recruitment', axis = 1, inplace = True)\n",
        "\n",
        "training_data.drop('Year_of_birth', axis = 1, inplace = True)\n",
        "test_data.drop('Year_of_birth', axis = 1, inplace = True)"
      ],
      "execution_count": 0,
      "outputs": []
    },
    {
      "cell_type": "code",
      "metadata": {
        "id": "cORKJJ_ceyok",
        "colab_type": "code",
        "colab": {}
      },
      "source": [
        "def abbrevQua(io):\n",
        "    values ={\n",
        "      'MSc, MBA and PhD':'GRAD',\n",
        "      'First Degree or HND':'COLLEGE',\n",
        "      'Non-University Education':'CERT',\n",
        "      'unknown': 'NON'\n",
        "      }\n",
        "    return values[io]\n",
        "training_data['Qualification']=training_data['Qualification'].apply(abbrevQua)\n",
        "test_data['Qualification']=test_data['Qualification'].apply(abbrevQua)\n",
        "# training_data['Qualification'].value_counts()"
      ],
      "execution_count": 0,
      "outputs": []
    },
    {
      "cell_type": "code",
      "metadata": {
        "id": "hq4TFnyLeyor",
        "colab_type": "code",
        "outputId": "7c8a45b6-e246-4441-ae2c-6b1dad699476",
        "colab": {
          "base_uri": "https://localhost:8080/",
          "height": 917
        }
      },
      "source": [
        "training_data['Trainings_Attended'].value_counts(), training_data['Qualification'].value_counts(), training_data['service_years'].value_counts()"
      ],
      "execution_count": 0,
      "outputs": [
        {
          "output_type": "execute_result",
          "data": {
            "text/plain": [
              "(2     30981\n",
              " 3      5631\n",
              " 4      1244\n",
              " 5       316\n",
              " 6        93\n",
              " 7        28\n",
              " 8         6\n",
              " 10        5\n",
              " 11        4\n",
              " 9         4\n",
              " Name: Trainings_Attended, dtype: int64, COLLEGE    27257\n",
              " GRAD       10469\n",
              " CERT         586\n",
              " Name: Qualification, dtype: int64, 3     4916\n",
              " 4     4757\n",
              " 2     4656\n",
              " 5     4101\n",
              " 7     3909\n",
              " 6     3314\n",
              " 1     3194\n",
              " 8     2011\n",
              " 9     1865\n",
              " 10    1497\n",
              " 11     619\n",
              " 12     570\n",
              " 13     472\n",
              " 15     422\n",
              " 16     394\n",
              " 14     376\n",
              " 17     293\n",
              " 18     269\n",
              " 19     230\n",
              " 20      90\n",
              " 21      53\n",
              " 24      51\n",
              " 23      46\n",
              " 22      38\n",
              " 25      35\n",
              " 26      27\n",
              " 29      22\n",
              " 28      21\n",
              " 27      20\n",
              " 31      13\n",
              " 30      11\n",
              " 32       8\n",
              " 33       7\n",
              " 34       4\n",
              " 37       1\n",
              " Name: service_years, dtype: int64)"
            ]
          },
          "metadata": {
            "tags": []
          },
          "execution_count": 44
        }
      ]
    },
    {
      "cell_type": "code",
      "metadata": {
        "id": "qIvAli0veyoz",
        "colab_type": "code",
        "colab": {}
      },
      "source": [
        ""
      ],
      "execution_count": 0,
      "outputs": []
    },
    {
      "cell_type": "code",
      "metadata": {
        "id": "H6Beo6XYeyo6",
        "colab_type": "code",
        "colab": {}
      },
      "source": [
        "# import seaborn as sns\n",
        "# sns.set(style=\"ticks\")\n",
        "\n",
        "# sns.pairplot(training_data, hue=\"Promoted_or_Not\")"
      ],
      "execution_count": 0,
      "outputs": []
    },
    {
      "cell_type": "code",
      "metadata": {
        "id": "M5UPrFcPeyo_",
        "colab_type": "code",
        "colab": {}
      },
      "source": [
        "# # sns.catplot(x=\"service_years\", y=\"Qualification\", hue=\"Promoted_or_Not\", kind=\"swarm\", data=training_data);\n",
        "\n",
        "# sns.catplot(x=\"service_years\", y=\"Qualification\", hue=\"Promoted_or_Not\", kind=\"swarm\", data=training_data[training_data['service_years'] > 1]);"
      ],
      "execution_count": 0,
      "outputs": []
    },
    {
      "cell_type": "markdown",
      "metadata": {
        "id": "2tL_52iKJ-2f",
        "colab_type": "text"
      },
      "source": [
        "**FEAUTURE ENGINEERING**"
      ]
    },
    {
      "cell_type": "code",
      "metadata": {
        "id": "_cZy337EeypS",
        "colab_type": "code",
        "colab": {}
      },
      "source": [
        "# Growth Level\n",
        "# Service Years: 1-20, >21\n",
        "# num_trainings: 2-7, >7\n",
        "# degrees: GRAD, COLLEGE, CERT\n",
        "    \n",
        "    \n",
        "# Growth Level\n",
        "# Company Years: <=10, 10-19, >19\n",
        "# num_trainings: =2, 3-5, >=7\n",
        "# degrees: GRAD, COLLEGE, CERT\n",
        "\n",
        "def Growth_Level(service_years, num_trainings):\n",
        "    if num_trainings >=7 and service_years > 19:\n",
        "        return 5\n",
        "    if num_trainings >2 and service_years > 10:\n",
        "        return 4\n",
        "    if num_trainings >=3 and service_years > 10:\n",
        "        return 3\n",
        "    if num_trainings <=2 and service_years <=10:\n",
        "        return 2\n",
        "    else:\n",
        "        return 1\n",
        "\n",
        "def Diminishing_Level(service_years, age, last_performance_score):\n",
        "    if age > 35 and last_performance_score < 7 and service_years > 18:\n",
        "        return 4\n",
        "    if age <= 25 and last_performance_score < 7 and service_years < 10:\n",
        "        return 3\n",
        "    if age > 25 and last_performance_score < 7 and service_years > 15:\n",
        "        return 2\n",
        "    else:\n",
        "        return 1\n",
        "    \n",
        "def Nagativity_Level(past_errors, target_met, last_performance_score):\n",
        "    if past_errors == 'Yes' and target_met == '0' and last_performance_score < 3:\n",
        "        return 4\n",
        "    if past_errors == 'Yes' and target_met == '0' and last_performance_score <= 7.5:\n",
        "        return 3\n",
        "    if past_errors == 'Yes' and target_met == '0' and last_performance_score < 13:\n",
        "        return 2\n",
        "    else:\n",
        "        return 1\n",
        "    \n",
        "def Uni_Level(Foreign_schooled, degrees):\n",
        "    if Foreign_schooled == 'Yes' and degrees == 'GRAD':\n",
        "        return 5\n",
        "    if Foreign_schooled == 'Yes' and degrees == 'COLLEGE':\n",
        "        return 4\n",
        "    if Foreign_schooled == 'No' and degrees == 'GRAD':\n",
        "        return 3\n",
        "    if Foreign_schooled == 'No' and degrees == 'COLLEGE':\n",
        "        return 2\n",
        "    else:\n",
        "        return 1\n"
      ],
      "execution_count": 0,
      "outputs": []
    },
    {
      "cell_type": "code",
      "metadata": {
        "id": "P6dwZ9EEeypY",
        "colab_type": "code",
        "colab": {}
      },
      "source": [
        "training_data['Growth_Level']=training_data.apply(lambda x:Growth_Level(x['service_years'],x['Trainings_Attended']),axis=1)\n",
        "test_data['Growth_Level']=test_data.apply(lambda x:Growth_Level(x['service_years'],x['Trainings_Attended']),axis=1)\n",
        "\n",
        "# training_data['Diminishing_Level']=training_data.apply(lambda x:Diminishing_Level(x['service_years'],x['Age'], x['Last_performance_score']),axis=1)\n",
        "# test_data['Diminishing_Level']=test_data.apply(lambda x:Diminishing_Level(x['service_years'],x['Age'], x['Last_performance_score']),axis=1)\n",
        "\n",
        "training_data['Nagativity_Level']=training_data.apply(lambda x:Nagativity_Level(x['Past_Disciplinary_Action'],x['Targets_met'], x['Last_performance_score']),axis=1)\n",
        "test_data['Nagativity_Level']=test_data.apply(lambda x:Nagativity_Level(x['Past_Disciplinary_Action'],x['Targets_met'], x['Last_performance_score']),axis=1)\n",
        "\n",
        "training_data['Uni_Level']=training_data.apply(lambda x:Uni_Level(x['Foreign_schooled'],x['Qualification']),axis=1)\n",
        "test_data['Uni_Level']=test_data.apply(lambda x:Uni_Level(x['Foreign_schooled'],x['Qualification']),axis=1)"
      ],
      "execution_count": 0,
      "outputs": []
    },
    {
      "cell_type": "code",
      "metadata": {
        "id": "650W7e8Geypf",
        "colab_type": "code",
        "outputId": "f4390645-2182-4f9c-f66a-c46a391686e7",
        "colab": {
          "base_uri": "https://localhost:8080/",
          "height": 417
        }
      },
      "source": [
        "training_data.head()"
      ],
      "execution_count": 0,
      "outputs": [
        {
          "output_type": "execute_result",
          "data": {
            "text/html": [
              "<div>\n",
              "<style scoped>\n",
              "    .dataframe tbody tr th:only-of-type {\n",
              "        vertical-align: middle;\n",
              "    }\n",
              "\n",
              "    .dataframe tbody tr th {\n",
              "        vertical-align: top;\n",
              "    }\n",
              "\n",
              "    .dataframe thead th {\n",
              "        text-align: right;\n",
              "    }\n",
              "</style>\n",
              "<table border=\"1\" class=\"dataframe\">\n",
              "  <thead>\n",
              "    <tr style=\"text-align: right;\">\n",
              "      <th></th>\n",
              "      <th>EmployeeNo</th>\n",
              "      <th>Division</th>\n",
              "      <th>Qualification</th>\n",
              "      <th>Gender</th>\n",
              "      <th>Channel_of_Recruitment</th>\n",
              "      <th>Trainings_Attended</th>\n",
              "      <th>Last_performance_score</th>\n",
              "      <th>Targets_met</th>\n",
              "      <th>Previous_Award</th>\n",
              "      <th>Training_score_average</th>\n",
              "      <th>State_Of_Origin</th>\n",
              "      <th>Foreign_schooled</th>\n",
              "      <th>Marital_Status</th>\n",
              "      <th>Past_Disciplinary_Action</th>\n",
              "      <th>Previous_IntraDepartmental_Movement</th>\n",
              "      <th>No_of_previous_employers</th>\n",
              "      <th>Promoted_or_Not</th>\n",
              "      <th>Age</th>\n",
              "      <th>service_years</th>\n",
              "      <th>Growth_Level</th>\n",
              "      <th>Nagativity_Level</th>\n",
              "      <th>Uni_Level</th>\n",
              "    </tr>\n",
              "  </thead>\n",
              "  <tbody>\n",
              "    <tr>\n",
              "      <th>0</th>\n",
              "      <td>YAK/S/00001</td>\n",
              "      <td>Commercial Sales and Marketing</td>\n",
              "      <td>GRAD</td>\n",
              "      <td>Female</td>\n",
              "      <td>Direct Internal process</td>\n",
              "      <td>2</td>\n",
              "      <td>12.5</td>\n",
              "      <td>1</td>\n",
              "      <td>0</td>\n",
              "      <td>41</td>\n",
              "      <td>ANAMBRA</td>\n",
              "      <td>No</td>\n",
              "      <td>Married</td>\n",
              "      <td>No</td>\n",
              "      <td>No</td>\n",
              "      <td>0</td>\n",
              "      <td>0</td>\n",
              "      <td>33</td>\n",
              "      <td>8</td>\n",
              "      <td>2</td>\n",
              "      <td>1</td>\n",
              "      <td>3</td>\n",
              "    </tr>\n",
              "    <tr>\n",
              "      <th>1</th>\n",
              "      <td>YAK/S/00002</td>\n",
              "      <td>Customer Support and Field Operations</td>\n",
              "      <td>COLLEGE</td>\n",
              "      <td>Male</td>\n",
              "      <td>Agency and others</td>\n",
              "      <td>2</td>\n",
              "      <td>12.5</td>\n",
              "      <td>0</td>\n",
              "      <td>0</td>\n",
              "      <td>52</td>\n",
              "      <td>ANAMBRA</td>\n",
              "      <td>Yes</td>\n",
              "      <td>Married</td>\n",
              "      <td>No</td>\n",
              "      <td>No</td>\n",
              "      <td>0</td>\n",
              "      <td>0</td>\n",
              "      <td>28</td>\n",
              "      <td>4</td>\n",
              "      <td>2</td>\n",
              "      <td>1</td>\n",
              "      <td>4</td>\n",
              "    </tr>\n",
              "    <tr>\n",
              "      <th>2</th>\n",
              "      <td>YAK/S/00003</td>\n",
              "      <td>Commercial Sales and Marketing</td>\n",
              "      <td>COLLEGE</td>\n",
              "      <td>Male</td>\n",
              "      <td>Direct Internal process</td>\n",
              "      <td>2</td>\n",
              "      <td>7.5</td>\n",
              "      <td>0</td>\n",
              "      <td>0</td>\n",
              "      <td>42</td>\n",
              "      <td>KATSINA</td>\n",
              "      <td>Yes</td>\n",
              "      <td>Married</td>\n",
              "      <td>No</td>\n",
              "      <td>No</td>\n",
              "      <td>0</td>\n",
              "      <td>0</td>\n",
              "      <td>32</td>\n",
              "      <td>7</td>\n",
              "      <td>2</td>\n",
              "      <td>1</td>\n",
              "      <td>4</td>\n",
              "    </tr>\n",
              "    <tr>\n",
              "      <th>3</th>\n",
              "      <td>YAK/S/00004</td>\n",
              "      <td>Commercial Sales and Marketing</td>\n",
              "      <td>COLLEGE</td>\n",
              "      <td>Male</td>\n",
              "      <td>Agency and others</td>\n",
              "      <td>3</td>\n",
              "      <td>2.5</td>\n",
              "      <td>0</td>\n",
              "      <td>0</td>\n",
              "      <td>42</td>\n",
              "      <td>NIGER</td>\n",
              "      <td>Yes</td>\n",
              "      <td>Single</td>\n",
              "      <td>No</td>\n",
              "      <td>No</td>\n",
              "      <td>1</td>\n",
              "      <td>0</td>\n",
              "      <td>37</td>\n",
              "      <td>10</td>\n",
              "      <td>1</td>\n",
              "      <td>1</td>\n",
              "      <td>4</td>\n",
              "    </tr>\n",
              "    <tr>\n",
              "      <th>4</th>\n",
              "      <td>YAK/S/00006</td>\n",
              "      <td>Information and Strategy</td>\n",
              "      <td>COLLEGE</td>\n",
              "      <td>Male</td>\n",
              "      <td>Direct Internal process</td>\n",
              "      <td>3</td>\n",
              "      <td>7.5</td>\n",
              "      <td>0</td>\n",
              "      <td>0</td>\n",
              "      <td>77</td>\n",
              "      <td>AKWA IBOM</td>\n",
              "      <td>Yes</td>\n",
              "      <td>Married</td>\n",
              "      <td>No</td>\n",
              "      <td>No</td>\n",
              "      <td>1</td>\n",
              "      <td>0</td>\n",
              "      <td>29</td>\n",
              "      <td>7</td>\n",
              "      <td>1</td>\n",
              "      <td>1</td>\n",
              "      <td>4</td>\n",
              "    </tr>\n",
              "  </tbody>\n",
              "</table>\n",
              "</div>"
            ],
            "text/plain": [
              "    EmployeeNo  ... Uni_Level\n",
              "0  YAK/S/00001  ...         3\n",
              "1  YAK/S/00002  ...         4\n",
              "2  YAK/S/00003  ...         4\n",
              "3  YAK/S/00004  ...         4\n",
              "4  YAK/S/00006  ...         4\n",
              "\n",
              "[5 rows x 22 columns]"
            ]
          },
          "metadata": {
            "tags": []
          },
          "execution_count": 49
        }
      ]
    },
    {
      "cell_type": "code",
      "metadata": {
        "id": "wsl6dbmyeypl",
        "colab_type": "code",
        "colab": {}
      },
      "source": [
        "# training_data['Growth_Level'].value_counts()"
      ],
      "execution_count": 0,
      "outputs": []
    },
    {
      "cell_type": "code",
      "metadata": {
        "id": "IqrBdtwzeypq",
        "colab_type": "code",
        "outputId": "fe707cc4-6c3a-4923-cdd6-5455c04c18e9",
        "colab": {
          "base_uri": "https://localhost:8080/",
          "height": 715
        }
      },
      "source": [
        "training_data['State_Of_Origin'].value_counts()"
      ],
      "execution_count": 0,
      "outputs": [
        {
          "output_type": "execute_result",
          "data": {
            "text/plain": [
              "LAGOS          6204\n",
              "FCT            2389\n",
              "OGUN           2302\n",
              "RIVERS         2222\n",
              "ANAMBRA        1710\n",
              "KANO           1649\n",
              "DELTA          1594\n",
              "OYO            1508\n",
              "KADUNA         1399\n",
              "IMO            1307\n",
              "EDO            1259\n",
              "ENUGU          1025\n",
              "ABIA            950\n",
              "OSUN            929\n",
              "ONDO            875\n",
              "NIGER           857\n",
              "KWARA           765\n",
              "PLATEAU         739\n",
              "AKWA IBOM       673\n",
              "NASSARAWA       632\n",
              "KATSINA         615\n",
              "ADAMAWA         605\n",
              "BENUE           579\n",
              "BAUCHI          557\n",
              "KOGI            542\n",
              "SOKOTO          499\n",
              "CROSS RIVER     495\n",
              "EKITI           455\n",
              "BORNO           447\n",
              "TARABA          400\n",
              "KEBBI           393\n",
              "BAYELSA         324\n",
              "EBONYI          313\n",
              "GOMBE           291\n",
              "ZAMFARA         290\n",
              "JIGAWA          262\n",
              "YOBE            257\n",
              "Name: State_Of_Origin, dtype: int64"
            ]
          },
          "metadata": {
            "tags": []
          },
          "execution_count": 51
        }
      ]
    },
    {
      "cell_type": "code",
      "metadata": {
        "id": "izhZR46jeypw",
        "colab_type": "code",
        "colab": {}
      },
      "source": [
        "#categorized into six geo-political zones\n",
        "def groupStates(io):\n",
        "    state={\n",
        "      'KWARA':'NC','NASSARAWA':'NC','KOGI':'NC','NIGER':'NC','BENUE':'NC','PLATEAU':'NC','FCT':'NC',\n",
        "      'BORNO':'NE','GOMBE':'NE','TARABA':'NE','YOBE':'NE','ADAMAWA':'NE','BAUCHI':'NE',\n",
        "      'ZAMFARA':'NW','JIGAWA':'NW','KATSINA':'NW','KANO':'NW','KEBBI':'NW','KADUNA':'NW','SOKOTO':'NW',\n",
        "      'ABIA':'SE','ENUGU':'SE','EBONYI':'SE','IMO':'SE','ANAMBRA':'SE',\n",
        "      'BAYELSA':'SS','AKWA IBOM':'SS','RIVERS':'SS','DELTA':'SS','EDO':'SS','CROSS RIVER':'SS',  \n",
        "      'LAGOS':'SW','OYO':'SW','OSUN':'SW','EKITI':'SW','OGUN':'SW','ONDO':'SW',\n",
        "      }\n",
        "    return state[io]\n",
        "\n",
        "#one hot encode\n",
        "training_data['State_Of_Origin'] = training_data['State_Of_Origin'].apply(groupStates)\n",
        "test_data['State_Of_Origin'] = test_data['State_Of_Origin'].apply(groupStates)"
      ],
      "execution_count": 0,
      "outputs": []
    },
    {
      "cell_type": "code",
      "metadata": {
        "id": "dYYGOzXPeyqC",
        "colab_type": "code",
        "outputId": "27af6951-bc07-4c09-c920-4a82c69938dd",
        "colab": {
          "base_uri": "https://localhost:8080/",
          "height": 146
        }
      },
      "source": [
        "training_data['State_Of_Origin'].value_counts()"
      ],
      "execution_count": 0,
      "outputs": [
        {
          "output_type": "execute_result",
          "data": {
            "text/plain": [
              "SW    12273\n",
              "SS     6567\n",
              "NC     6503\n",
              "SE     5305\n",
              "NW     5107\n",
              "NE     2557\n",
              "Name: State_Of_Origin, dtype: int64"
            ]
          },
          "metadata": {
            "tags": []
          },
          "execution_count": 53
        }
      ]
    },
    {
      "cell_type": "code",
      "metadata": {
        "id": "s4QupDBIeyqH",
        "colab_type": "code",
        "colab": {}
      },
      "source": [
        "# plt.rcParams['figure.figsize'] = [14, 5]\n",
        "# sns.scatterplot(x='age',y='Training_score_average',hue='Promoted_or_Not',data=training_data)"
      ],
      "execution_count": 0,
      "outputs": []
    },
    {
      "cell_type": "code",
      "metadata": {
        "id": "CSrvSLCzeyqN",
        "colab_type": "code",
        "outputId": "671cb4cd-13d2-462d-81b5-c4a810ae1ff0",
        "colab": {
          "base_uri": "https://localhost:8080/",
          "height": 164
        }
      },
      "source": [
        "training_data['No_of_previous_employers'] = training_data['No_of_previous_employers'].apply(lambda x: '7' if x == 'More than 5' else x)\n",
        "test_data['No_of_previous_employers'] = test_data['No_of_previous_employers'].apply(lambda x: '7' if x == 'More than 5' else x)\n",
        "training_data['No_of_previous_employers'].value_counts()"
      ],
      "execution_count": 0,
      "outputs": [
        {
          "output_type": "execute_result",
          "data": {
            "text/plain": [
              "1    18867\n",
              "0    13272\n",
              "2     1918\n",
              "3     1587\n",
              "4     1324\n",
              "5      943\n",
              "7      401\n",
              "Name: No_of_previous_employers, dtype: int64"
            ]
          },
          "metadata": {
            "tags": []
          },
          "execution_count": 55
        }
      ]
    },
    {
      "cell_type": "code",
      "metadata": {
        "id": "4o7ZVDwseyqS",
        "colab_type": "code",
        "colab": {}
      },
      "source": [
        "test_data['Last_performance_score']=test_data['Last_performance_score'].round().astype('category')"
      ],
      "execution_count": 0,
      "outputs": []
    },
    {
      "cell_type": "code",
      "metadata": {
        "id": "emKUiceZeyqX",
        "colab_type": "code",
        "colab": {}
      },
      "source": [
        "categorical = ['Division',\n",
        " 'Qualification',\n",
        " 'Gender',\n",
        " 'Channel_of_Recruitment',\n",
        " 'State_Of_Origin',\n",
        " 'Foreign_schooled',\n",
        " 'Marital_Status',\n",
        " 'Past_Disciplinary_Action',\n",
        " 'Previous_IntraDepartmental_Movement',\n",
        " 'No_of_previous_employers',\n",
        " 'Last_performance_score']"
      ],
      "execution_count": 0,
      "outputs": []
    },
    {
      "cell_type": "code",
      "metadata": {
        "id": "n84M0Itdeyqd",
        "colab_type": "code",
        "colab": {}
      },
      "source": [
        "#LabelEncoder\n",
        "from sklearn.preprocessing import LabelEncoder\n",
        "le = LabelEncoder()\n",
        "\n",
        "for column in categorical :\n",
        "    training_data[column] = le.fit_transform(training_data[column])\n",
        "    \n",
        "\n",
        "for column in categorical :\n",
        "    test_data[column] = le.fit_transform(test_data[column])\n",
        "    "
      ],
      "execution_count": 0,
      "outputs": []
    },
    {
      "cell_type": "code",
      "metadata": {
        "id": "1kHaIQhTVrw9",
        "colab_type": "code",
        "colab": {}
      },
      "source": [
        ""
      ],
      "execution_count": 0,
      "outputs": []
    },
    {
      "cell_type": "code",
      "metadata": {
        "id": "KczKRiIReyqi",
        "colab_type": "code",
        "outputId": "e006a77d-a563-4a9b-dfd4-17555ad21de0",
        "colab": {
          "base_uri": "https://localhost:8080/",
          "height": 226
        }
      },
      "source": [
        "training_data.head()"
      ],
      "execution_count": 0,
      "outputs": [
        {
          "output_type": "execute_result",
          "data": {
            "text/html": [
              "<div>\n",
              "<style scoped>\n",
              "    .dataframe tbody tr th:only-of-type {\n",
              "        vertical-align: middle;\n",
              "    }\n",
              "\n",
              "    .dataframe tbody tr th {\n",
              "        vertical-align: top;\n",
              "    }\n",
              "\n",
              "    .dataframe thead th {\n",
              "        text-align: right;\n",
              "    }\n",
              "</style>\n",
              "<table border=\"1\" class=\"dataframe\">\n",
              "  <thead>\n",
              "    <tr style=\"text-align: right;\">\n",
              "      <th></th>\n",
              "      <th>EmployeeNo</th>\n",
              "      <th>Division</th>\n",
              "      <th>Qualification</th>\n",
              "      <th>Gender</th>\n",
              "      <th>Channel_of_Recruitment</th>\n",
              "      <th>Trainings_Attended</th>\n",
              "      <th>Last_performance_score</th>\n",
              "      <th>Targets_met</th>\n",
              "      <th>Previous_Award</th>\n",
              "      <th>Training_score_average</th>\n",
              "      <th>State_Of_Origin</th>\n",
              "      <th>Foreign_schooled</th>\n",
              "      <th>Marital_Status</th>\n",
              "      <th>Past_Disciplinary_Action</th>\n",
              "      <th>Previous_IntraDepartmental_Movement</th>\n",
              "      <th>No_of_previous_employers</th>\n",
              "      <th>Promoted_or_Not</th>\n",
              "      <th>Age</th>\n",
              "      <th>service_years</th>\n",
              "      <th>Growth_Level</th>\n",
              "      <th>Nagativity_Level</th>\n",
              "      <th>Uni_Level</th>\n",
              "    </tr>\n",
              "  </thead>\n",
              "  <tbody>\n",
              "    <tr>\n",
              "      <th>0</th>\n",
              "      <td>YAK/S/00001</td>\n",
              "      <td>1</td>\n",
              "      <td>2</td>\n",
              "      <td>0</td>\n",
              "      <td>1</td>\n",
              "      <td>2</td>\n",
              "      <td>5</td>\n",
              "      <td>1</td>\n",
              "      <td>0</td>\n",
              "      <td>41</td>\n",
              "      <td>3</td>\n",
              "      <td>0</td>\n",
              "      <td>0</td>\n",
              "      <td>0</td>\n",
              "      <td>0</td>\n",
              "      <td>0</td>\n",
              "      <td>0</td>\n",
              "      <td>33</td>\n",
              "      <td>8</td>\n",
              "      <td>2</td>\n",
              "      <td>1</td>\n",
              "      <td>3</td>\n",
              "    </tr>\n",
              "    <tr>\n",
              "      <th>1</th>\n",
              "      <td>YAK/S/00002</td>\n",
              "      <td>2</td>\n",
              "      <td>1</td>\n",
              "      <td>1</td>\n",
              "      <td>0</td>\n",
              "      <td>2</td>\n",
              "      <td>5</td>\n",
              "      <td>0</td>\n",
              "      <td>0</td>\n",
              "      <td>52</td>\n",
              "      <td>3</td>\n",
              "      <td>1</td>\n",
              "      <td>0</td>\n",
              "      <td>0</td>\n",
              "      <td>0</td>\n",
              "      <td>0</td>\n",
              "      <td>0</td>\n",
              "      <td>28</td>\n",
              "      <td>4</td>\n",
              "      <td>2</td>\n",
              "      <td>1</td>\n",
              "      <td>4</td>\n",
              "    </tr>\n",
              "    <tr>\n",
              "      <th>2</th>\n",
              "      <td>YAK/S/00003</td>\n",
              "      <td>1</td>\n",
              "      <td>1</td>\n",
              "      <td>1</td>\n",
              "      <td>1</td>\n",
              "      <td>2</td>\n",
              "      <td>3</td>\n",
              "      <td>0</td>\n",
              "      <td>0</td>\n",
              "      <td>42</td>\n",
              "      <td>2</td>\n",
              "      <td>1</td>\n",
              "      <td>0</td>\n",
              "      <td>0</td>\n",
              "      <td>0</td>\n",
              "      <td>0</td>\n",
              "      <td>0</td>\n",
              "      <td>32</td>\n",
              "      <td>7</td>\n",
              "      <td>2</td>\n",
              "      <td>1</td>\n",
              "      <td>4</td>\n",
              "    </tr>\n",
              "    <tr>\n",
              "      <th>3</th>\n",
              "      <td>YAK/S/00004</td>\n",
              "      <td>1</td>\n",
              "      <td>1</td>\n",
              "      <td>1</td>\n",
              "      <td>0</td>\n",
              "      <td>3</td>\n",
              "      <td>1</td>\n",
              "      <td>0</td>\n",
              "      <td>0</td>\n",
              "      <td>42</td>\n",
              "      <td>0</td>\n",
              "      <td>1</td>\n",
              "      <td>2</td>\n",
              "      <td>0</td>\n",
              "      <td>0</td>\n",
              "      <td>1</td>\n",
              "      <td>0</td>\n",
              "      <td>37</td>\n",
              "      <td>10</td>\n",
              "      <td>1</td>\n",
              "      <td>1</td>\n",
              "      <td>4</td>\n",
              "    </tr>\n",
              "    <tr>\n",
              "      <th>4</th>\n",
              "      <td>YAK/S/00006</td>\n",
              "      <td>4</td>\n",
              "      <td>1</td>\n",
              "      <td>1</td>\n",
              "      <td>1</td>\n",
              "      <td>3</td>\n",
              "      <td>3</td>\n",
              "      <td>0</td>\n",
              "      <td>0</td>\n",
              "      <td>77</td>\n",
              "      <td>4</td>\n",
              "      <td>1</td>\n",
              "      <td>0</td>\n",
              "      <td>0</td>\n",
              "      <td>0</td>\n",
              "      <td>1</td>\n",
              "      <td>0</td>\n",
              "      <td>29</td>\n",
              "      <td>7</td>\n",
              "      <td>1</td>\n",
              "      <td>1</td>\n",
              "      <td>4</td>\n",
              "    </tr>\n",
              "  </tbody>\n",
              "</table>\n",
              "</div>"
            ],
            "text/plain": [
              "    EmployeeNo  Division  ...  Nagativity_Level  Uni_Level\n",
              "0  YAK/S/00001         1  ...                 1          3\n",
              "1  YAK/S/00002         2  ...                 1          4\n",
              "2  YAK/S/00003         1  ...                 1          4\n",
              "3  YAK/S/00004         1  ...                 1          4\n",
              "4  YAK/S/00006         4  ...                 1          4\n",
              "\n",
              "[5 rows x 22 columns]"
            ]
          },
          "metadata": {
            "tags": []
          },
          "execution_count": 59
        }
      ]
    },
    {
      "cell_type": "code",
      "metadata": {
        "id": "0REFYXtxeyqw",
        "colab_type": "code",
        "colab": {}
      },
      "source": [
        "training_data_num = training_data['EmployeeNo']\n",
        "test_data_num = test_data['EmployeeNo']\n",
        "\n",
        "training_data.drop(\"EmployeeNo\", axis = 1, inplace = True)\n",
        "test_data.drop(\"EmployeeNo\", axis = 1, inplace = True)"
      ],
      "execution_count": 0,
      "outputs": []
    },
    {
      "cell_type": "code",
      "metadata": {
        "id": "NI1ruDgFeyq0",
        "colab_type": "code",
        "colab": {}
      },
      "source": [
        "#save and drop the target varriable\n",
        "y_train=training_data['Promoted_or_Not']\n",
        "training_data.drop('Promoted_or_Not',axis=1,inplace=True)"
      ],
      "execution_count": 0,
      "outputs": []
    },
    {
      "cell_type": "code",
      "metadata": {
        "id": "smtBNxBaeyq3",
        "colab_type": "code",
        "colab": {}
      },
      "source": [
        "from xgboost import XGBClassifier\n",
        "from sklearn.model_selection import train_test_split\n",
        "\n",
        "\n",
        "x_trn,x_valid, y_trn, y_valid = train_test_split(training_data,y_train, test_size = 0.2, random_state = 42)"
      ],
      "execution_count": 0,
      "outputs": []
    },
    {
      "cell_type": "code",
      "metadata": {
        "id": "SG2_8owpeyq-",
        "colab_type": "code",
        "colab": {}
      },
      "source": [
        "#parameter tuning\n",
        "from sklearn import metrics\n",
        "from sklearn.model_selection import GridSearchCV\n",
        "\n",
        "# model_xg =XGBClassifier()\n",
        "# param_dist = {\"max_depth\": [6,7,8],\n",
        "#               \"min_child_weight\" : [7,8,9],\n",
        "#               \"n_estimators\": [140],\n",
        "#               \"learning_rate\": [0.08, 0.10, 0.11],\n",
        "#               \"gamma\":[0.0, 0.03, 0.05]}\n",
        "# grid_search = GridSearchCV(model_xg, param_grid=param_dist, cv = 3, \n",
        "#                                    verbose=10, n_jobs=-1)\n",
        "# grid_search.fit(training_data, y_train)\n",
        "\n",
        "# grid_search.best_estimator_"
      ],
      "execution_count": 0,
      "outputs": []
    },
    {
      "cell_type": "code",
      "metadata": {
        "id": "_b5AEedteyrB",
        "colab_type": "code",
        "outputId": "e985de51-53af-4c60-e59e-af19adc45c7e",
        "colab": {
          "base_uri": "https://localhost:8080/",
          "height": 146
        }
      },
      "source": [
        "#Applying XGboost\n",
        "model_xg =XGBClassifier(objective=\"binary:logistic\", \n",
        "    learning_rate=0.1, \n",
        "    min_child_weight=7,\n",
        "    max_depth=7, \n",
        "    gamma=0, \n",
        "    n_estimators=200)\n",
        "model_xg.fit(training_data,y_train)\n"
      ],
      "execution_count": 0,
      "outputs": [
        {
          "output_type": "execute_result",
          "data": {
            "text/plain": [
              "XGBClassifier(base_score=0.5, booster='gbtree', colsample_bylevel=1,\n",
              "              colsample_bynode=1, colsample_bytree=1, gamma=0,\n",
              "              learning_rate=0.1, max_delta_step=0, max_depth=7,\n",
              "              min_child_weight=7, missing=None, n_estimators=200, n_jobs=1,\n",
              "              nthread=None, objective='binary:logistic', random_state=0,\n",
              "              reg_alpha=0, reg_lambda=1, scale_pos_weight=1, seed=None,\n",
              "              silent=None, subsample=1, verbosity=1)"
            ]
          },
          "metadata": {
            "tags": []
          },
          "execution_count": 78
        }
      ]
    },
    {
      "cell_type": "code",
      "metadata": {
        "id": "Q5NHEM9HeyrJ",
        "colab_type": "code",
        "outputId": "d14954b1-7f7b-4ab6-8aa3-168724740e22",
        "colab": {
          "base_uri": "https://localhost:8080/",
          "height": 35
        }
      },
      "source": [
        "#Our Score on Validation Data\n",
        "model_xg.score(x_valid,y_valid)\n",
        "#0.9425812345034582"
      ],
      "execution_count": 0,
      "outputs": [
        {
          "output_type": "execute_result",
          "data": {
            "text/plain": [
              "0.9427117316977685"
            ]
          },
          "metadata": {
            "tags": []
          },
          "execution_count": 79
        }
      ]
    },
    {
      "cell_type": "code",
      "metadata": {
        "id": "4g96YLvSeyrY",
        "colab_type": "code",
        "colab": {}
      },
      "source": [
        "#Prediction on Test Set\n",
        "predict_y_xg = model_xg.predict(test_data)"
      ],
      "execution_count": 0,
      "outputs": []
    },
    {
      "cell_type": "code",
      "metadata": {
        "id": "p5wsigh1eyre",
        "colab_type": "code",
        "outputId": "94d322b3-832b-43fd-af74-d8c6290b504c",
        "colab": {
          "base_uri": "https://localhost:8080/",
          "height": 35
        }
      },
      "source": [
        "#Our Score on Training data\n",
        "model_xg.score(x_trn,y_trn)\n",
        "#0.9485464452347548"
      ],
      "execution_count": 0,
      "outputs": [
        {
          "output_type": "execute_result",
          "data": {
            "text/plain": [
              "0.9484485627589807"
            ]
          },
          "metadata": {
            "tags": []
          },
          "execution_count": 81
        }
      ]
    },
    {
      "cell_type": "code",
      "metadata": {
        "id": "32Y87F6beyrk",
        "colab_type": "code",
        "colab": {}
      },
      "source": [
        "#Prepare our Submission file\n",
        "my_submission = pd.DataFrame({'EmployeeNo':test_data_num, 'Promoted_or_Not': predict_y_xg })\n",
        "my_submission.to_csv('submission_samuel.csv', index=False)"
      ],
      "execution_count": 0,
      "outputs": []
    },
    {
      "cell_type": "code",
      "metadata": {
        "id": "iW5MrdP4eyrr",
        "colab_type": "code",
        "outputId": "41c42b0a-3447-4246-97d5-5bd2de47d924",
        "colab": {
          "base_uri": "https://localhost:8080/",
          "height": 72
        }
      },
      "source": [
        "!kaggle competitions submit -c intercampusai2019 -f submission_samuel.csv -m \"DSN_FILE\""
      ],
      "execution_count": 0,
      "outputs": [
        {
          "output_type": "stream",
          "text": [
            "Warning: Looks like you're using an outdated API Version, please consider updating (server 1.5.6 / client 1.5.4)\n",
            "100% 226k/226k [00:01<00:00, 117kB/s]\n",
            "Successfully submitted to Data Science Nigeria Staff Promotion Algorithm "
          ],
          "name": "stdout"
        }
      ]
    },
    {
      "cell_type": "code",
      "metadata": {
        "id": "08zdymUOeyrv",
        "colab_type": "code",
        "outputId": "9dc4eaae-6266-46f7-c922-e84b19255f3c",
        "colab": {
          "base_uri": "https://localhost:8080/",
          "height": 439
        }
      },
      "source": [
        "!kaggle competitions submissions -c intercampusai2019"
      ],
      "execution_count": 0,
      "outputs": [
        {
          "output_type": "stream",
          "text": [
            "Warning: Looks like you're using an outdated API Version, please consider updating (server 1.5.6 / client 1.5.4)\n",
            "fileName               date                 description  status    publicScore  privateScore  \n",
            "---------------------  -------------------  -----------  --------  -----------  ------------  \n",
            "submission_samuel.csv  2019-10-24 05:14:22  DSN_FILE     pending   None         None          \n",
            "submission_samuel.csv  2019-10-24 05:13:13  DSN_FILE     complete  0.94320      0.93782       \n",
            "submission_samuel.csv  2019-10-24 05:11:28  DSN_FILE     complete  0.94482      0.93869       \n",
            "submission_samuel.csv  2019-10-23 19:39:06  DSN_FILE     complete  0.94543      0.93955       \n",
            "submission_samuel.csv  2019-10-23 19:36:57  DSN_FILE     complete  0.94543      0.93955       \n",
            "submission_samuel.csv  2019-10-23 19:14:28  DSN_FILE     complete  0.94664      0.93929       \n",
            "submission_samuel.csv  2019-10-23 16:24:32  DSN_FILE     complete  0.94583      0.93903       \n",
            "submission_samuel.csv  2019-10-23 16:09:54  DSN_FILE     complete  0.94664      0.93929       \n",
            "submission_samuel.csv  2019-10-23 16:08:53  DSN_FILE     complete  0.94563      0.93938       \n",
            "submission_samuel.csv  2019-10-23 15:39:27  DSN_FILE     complete  0.94624      0.93972       \n",
            "submission_samuel.csv  2019-10-23 15:33:07  DSN_FILE     complete  0.94543      0.93947       \n",
            "submission_samuel.csv  2019-10-23 15:26:43  DSN_FILE     complete  0.94583      0.93921       \n",
            "submission_samuel.csv  2019-10-23 15:25:18  DSN_FILE     complete  0.94624      0.93972       \n",
            "submission_samuel.csv  2019-10-23 09:21:14  BOOTCAMP     complete  0.94583      0.93921       \n",
            "submission_samuel.csv  2019-10-23 09:01:48  DSN_FILE     complete  0.94280      0.93886       \n",
            "submission_samuel.csv  2019-10-23 08:59:09  DSN_FILE     complete  0.94563      0.93921       \n",
            "submission_samuel.csv  2019-10-23 08:55:07  DSN_FILE     complete  0.94543      0.93903       \n",
            "submission_samuel.csv  2019-10-23 03:15:24  DSN_FILE     complete  0.94462      0.93912       \n",
            "submission_samuel.csv  2019-10-23 03:14:47  DSN_FILE     complete  0.94543      0.93921       \n",
            "submission_samuel.csv  2019-10-23 03:08:06  DSN_FILE     complete  0.94482      0.93964       \n"
          ],
          "name": "stdout"
        }
      ]
    },
    {
      "cell_type": "code",
      "metadata": {
        "id": "jhNP8HqDh38M",
        "colab_type": "code",
        "colab": {}
      },
      "source": [
        "files.download('submission_samuel.csv')"
      ],
      "execution_count": 0,
      "outputs": []
    },
    {
      "cell_type": "code",
      "metadata": {
        "id": "MfRl1RxIM_90",
        "colab_type": "code",
        "colab": {}
      },
      "source": [
        ""
      ],
      "execution_count": 0,
      "outputs": []
    }
  ]
}

{
  "nbformat": 4,
  "nbformat_minor": 0,
  "metadata": {
    "colab": {
      "name": "DSN_Comedy.ipynb",
      "provenance": [],
      "collapsed_sections": []
    },
    "kernelspec": {
      "name": "python3",
      "display_name": "Python 3"
    },
    "accelerator": "TPU"
  },
  "cells": [
    {
      "cell_type": "code",
      "metadata": {
        "id": "agCkX7tMwLfk",
        "colab_type": "code",
        "outputId": "275959c5-054f-4ae5-e94a-9326bfd5b45a",
        "colab": {
          "resources": {
            "http://localhost:8080/nbextensions/google.colab/files.js": {
              "data": "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",
              "ok": true,
              "headers": [
                [
                  "content-type",
                  "application/javascript"
                ]
              ],
              "status": 200,
              "status_text": "OK"
            }
          },
          "base_uri": "https://localhost:8080/",
          "height": 90
        }
      },
      "source": [
        "# Run this cell and select the kaggle.json file downloaded\n",
        "# from the Kaggle account settings page.\n",
        "from google.colab import files\n",
        "files.upload()"
      ],
      "execution_count": 0,
      "outputs": [
        {
          "output_type": "display_data",
          "data": {
            "text/html": [
              "\n",
              "     <input type=\"file\" id=\"files-b62cfa45-7cf8-47c6-a213-35ea600db1b5\" name=\"files[]\" multiple disabled />\n",
              "     <output id=\"result-b62cfa45-7cf8-47c6-a213-35ea600db1b5\">\n",
              "      Upload widget is only available when the cell has been executed in the\n",
              "      current browser session. Please rerun this cell to enable.\n",
              "      </output>\n",
              "      <script src=\"/nbextensions/google.colab/files.js\"></script> "
            ],
            "text/plain": [
              "<IPython.core.display.HTML object>"
            ]
          },
          "metadata": {
            "tags": []
          }
        },
        {
          "output_type": "stream",
          "text": [
            "Saving kaggle.json to kaggle.json\n"
          ],
          "name": "stdout"
        },
        {
          "output_type": "execute_result",
          "data": {
            "text/plain": [
              "{'kaggle.json': b'{\"username\":\"mikuns\",\"key\":\"19ed252a7541a96e597034e7e08fb1d0\"}'}"
            ]
          },
          "metadata": {
            "tags": []
          },
          "execution_count": 1
        }
      ]
    },
    {
      "cell_type": "code",
      "metadata": {
        "id": "EoSiLj3Vwyvo",
        "colab_type": "code",
        "outputId": "291aacae-4c7d-49ca-f400-ca7ec31eef39",
        "colab": {
          "base_uri": "https://localhost:8080/",
          "height": 35
        }
      },
      "source": [
        "# Let's make sure the kaggle.json file is present.\n",
        "!ls -lha kaggle.json"
      ],
      "execution_count": 0,
      "outputs": [
        {
          "output_type": "stream",
          "text": [
            "-rw-r--r-- 1 root root 62 Oct  9 18:36 kaggle.json\n"
          ],
          "name": "stdout"
        }
      ]
    },
    {
      "cell_type": "code",
      "metadata": {
        "id": "A_OCvk3c8SAh",
        "colab_type": "code",
        "colab": {}
      },
      "source": [
        "# Next, install the Kaggle API client.\n",
        "!pip install -q kaggle"
      ],
      "execution_count": 0,
      "outputs": []
    },
    {
      "cell_type": "code",
      "metadata": {
        "id": "GNB9-RlT8Uqe",
        "colab_type": "code",
        "outputId": "c3d986df-c12f-4f8d-e248-b1630b0fccd4",
        "colab": {
          "base_uri": "https://localhost:8080/",
          "height": 35
        }
      },
      "source": [
        "# The Kaggle API client expects this file to be in ~/.kaggle,\n",
        "# so move it there.\n",
        "!mkdir -p ~/.kaggle\n",
        "!cp kaggle.json ~/.kaggle/\n",
        "\n",
        "# This permissions change avoids a warning on Kaggle tool startup.\n",
        "!chmod 600 /content/.kaggle/kaggle.json"
      ],
      "execution_count": 0,
      "outputs": [
        {
          "output_type": "stream",
          "text": [
            "chmod: cannot access '/content/.kaggle/kaggle.json': No such file or directory\n"
          ],
          "name": "stdout"
        }
      ]
    },
    {
      "cell_type": "code",
      "metadata": {
        "id": "J5hd-u9X8ZJu",
        "colab_type": "code",
        "outputId": "f75c91b6-4676-4928-99a9-75951a04d1ce",
        "colab": {
          "base_uri": "https://localhost:8080/",
          "height": 35
        }
      },
      "source": [
        "!ls"
      ],
      "execution_count": 0,
      "outputs": [
        {
          "output_type": "stream",
          "text": [
            "kaggle.json  sample_data\n"
          ],
          "name": "stdout"
        }
      ]
    },
    {
      "cell_type": "code",
      "metadata": {
        "id": "7_TqaW5b8hn8",
        "colab_type": "code",
        "outputId": "9fbf44d0-b863-4e85-cf78-c9da0f915afa",
        "colab": {
          "base_uri": "https://localhost:8080/",
          "height": 220
        }
      },
      "source": [
        "# Copy the stackoverflow data set locally.\n",
        "!kaggle competitions download -c dsn2018selection"
      ],
      "execution_count": 0,
      "outputs": [
        {
          "output_type": "stream",
          "text": [
            "Warning: Your Kaggle API key is readable by otherusers on this system! To fix this, you can run'chmod 600 /root/.kaggle/kaggle.json'\n",
            "Downloading train.zip to /content\n",
            "100% 4.41M/4.41M [00:00<00:00, 18.3MB/s]\n",
            "\n",
            "Downloading test.zip to /content\n",
            "  0% 0.00/2.24M [00:00<?, ?B/s]\n",
            "100% 2.24M/2.24M [00:00<00:00, 262MB/s]\n",
            "Downloading SampleSubmission.zip to /content\n",
            "  0% 0.00/1.15M [00:00<?, ?B/s]\n",
            "100% 1.15M/1.15M [00:00<00:00, 112MB/s]\n"
          ],
          "name": "stdout"
        }
      ]
    },
    {
      "cell_type": "code",
      "metadata": {
        "id": "3CfBGLEi81eM",
        "colab_type": "code",
        "outputId": "19085b55-809e-471c-971c-81be8fc4dc13",
        "colab": {
          "base_uri": "https://localhost:8080/",
          "height": 35
        }
      },
      "source": [
        "!ls /content"
      ],
      "execution_count": 0,
      "outputs": [
        {
          "output_type": "stream",
          "text": [
            "kaggle.json  sample_data  SampleSubmission.zip\ttest.zip  train.zip\n"
          ],
          "name": "stdout"
        }
      ]
    },
    {
      "cell_type": "code",
      "metadata": {
        "id": "jdhAqZs-9BZz",
        "colab_type": "code",
        "outputId": "aaf0f565-f6f5-4400-aacc-f3c0b7fc64e9",
        "colab": {
          "base_uri": "https://localhost:8080/",
          "height": 143
        }
      },
      "source": [
        "import pandas as pd\n",
        "\n",
        "train = pd.read_csv(\"/content/train.zip\")\n",
        "test = pd.read_csv(\"/content/test.zip\")\n",
        "submit = pd.read_csv(\"/content/SampleSubmission.zip\")\n",
        "train.head(3)"
      ],
      "execution_count": 0,
      "outputs": [
        {
          "output_type": "execute_result",
          "data": {
            "text/html": [
              "<div>\n",
              "<style scoped>\n",
              "    .dataframe tbody tr th:only-of-type {\n",
              "        vertical-align: middle;\n",
              "    }\n",
              "\n",
              "    .dataframe tbody tr th {\n",
              "        vertical-align: top;\n",
              "    }\n",
              "\n",
              "    .dataframe thead th {\n",
              "        text-align: right;\n",
              "    }\n",
              "</style>\n",
              "<table border=\"1\" class=\"dataframe\">\n",
              "  <thead>\n",
              "    <tr style=\"text-align: right;\">\n",
              "      <th></th>\n",
              "      <th>Viewers_ID</th>\n",
              "      <th>Joke_identifier</th>\n",
              "      <th>Response_ID</th>\n",
              "      <th>Rating</th>\n",
              "    </tr>\n",
              "  </thead>\n",
              "  <tbody>\n",
              "    <tr>\n",
              "      <th>0</th>\n",
              "      <td>A1</td>\n",
              "      <td>Klint De Drunk Enugu 1</td>\n",
              "      <td>A1_Klint De Drunk Enugu 1</td>\n",
              "      <td>0.11</td>\n",
              "    </tr>\n",
              "    <tr>\n",
              "      <th>1</th>\n",
              "      <td>A1</td>\n",
              "      <td>Klint De Drunk Enugu 2</td>\n",
              "      <td>A1_Klint De Drunk Enugu 2</td>\n",
              "      <td>-4.64</td>\n",
              "    </tr>\n",
              "    <tr>\n",
              "      <th>2</th>\n",
              "      <td>A1</td>\n",
              "      <td>Klint De Drunk PH 1</td>\n",
              "      <td>A1_Klint De Drunk PH 1</td>\n",
              "      <td>-3.39</td>\n",
              "    </tr>\n",
              "  </tbody>\n",
              "</table>\n",
              "</div>"
            ],
            "text/plain": [
              "  Viewers_ID         Joke_identifier                Response_ID  Rating\n",
              "0         A1  Klint De Drunk Enugu 1  A1_Klint De Drunk Enugu 1    0.11\n",
              "1         A1  Klint De Drunk Enugu 2  A1_Klint De Drunk Enugu 2   -4.64\n",
              "2         A1     Klint De Drunk PH 1     A1_Klint De Drunk PH 1   -3.39"
            ]
          },
          "metadata": {
            "tags": []
          },
          "execution_count": 8
        }
      ]
    },
    {
      "cell_type": "code",
      "metadata": {
        "id": "vJEoDF7VYAf5",
        "colab_type": "code",
        "outputId": "76896b76-6ccf-4f45-b31f-d621a26e3ff1",
        "colab": {
          "base_uri": "https://localhost:8080/",
          "height": 206
        }
      },
      "source": [
        "test.head()"
      ],
      "execution_count": 0,
      "outputs": [
        {
          "output_type": "execute_result",
          "data": {
            "text/html": [
              "<div>\n",
              "<style scoped>\n",
              "    .dataframe tbody tr th:only-of-type {\n",
              "        vertical-align: middle;\n",
              "    }\n",
              "\n",
              "    .dataframe tbody tr th {\n",
              "        vertical-align: top;\n",
              "    }\n",
              "\n",
              "    .dataframe thead th {\n",
              "        text-align: right;\n",
              "    }\n",
              "</style>\n",
              "<table border=\"1\" class=\"dataframe\">\n",
              "  <thead>\n",
              "    <tr style=\"text-align: right;\">\n",
              "      <th></th>\n",
              "      <th>Viewers_ID</th>\n",
              "      <th>Joke_identifier</th>\n",
              "      <th>Response_ID</th>\n",
              "    </tr>\n",
              "  </thead>\n",
              "  <tbody>\n",
              "    <tr>\n",
              "      <th>0</th>\n",
              "      <td>A1</td>\n",
              "      <td>Akpororo Lagos 1</td>\n",
              "      <td>A1_Akpororo Lagos 1</td>\n",
              "    </tr>\n",
              "    <tr>\n",
              "      <th>1</th>\n",
              "      <td>A1</td>\n",
              "      <td>Akpororo Abuja 1</td>\n",
              "      <td>A1_Akpororo Abuja 1</td>\n",
              "    </tr>\n",
              "    <tr>\n",
              "      <th>2</th>\n",
              "      <td>A1</td>\n",
              "      <td>Akpororo Abuja 5</td>\n",
              "      <td>A1_Akpororo Abuja 5</td>\n",
              "    </tr>\n",
              "    <tr>\n",
              "      <th>3</th>\n",
              "      <td>A1</td>\n",
              "      <td>I Go Dye Benin 1</td>\n",
              "      <td>A1_I Go Dye Benin 1</td>\n",
              "    </tr>\n",
              "    <tr>\n",
              "      <th>4</th>\n",
              "      <td>A1</td>\n",
              "      <td>I Go Dye Benin 3</td>\n",
              "      <td>A1_I Go Dye Benin 3</td>\n",
              "    </tr>\n",
              "  </tbody>\n",
              "</table>\n",
              "</div>"
            ],
            "text/plain": [
              "  Viewers_ID   Joke_identifier          Response_ID\n",
              "0         A1  Akpororo Lagos 1  A1_Akpororo Lagos 1\n",
              "1         A1  Akpororo Abuja 1  A1_Akpororo Abuja 1\n",
              "2         A1  Akpororo Abuja 5  A1_Akpororo Abuja 5\n",
              "3         A1  I Go Dye Benin 1  A1_I Go Dye Benin 1\n",
              "4         A1  I Go Dye Benin 3  A1_I Go Dye Benin 3"
            ]
          },
          "metadata": {
            "tags": []
          },
          "execution_count": 9
        }
      ]
    },
    {
      "cell_type": "code",
      "metadata": {
        "id": "CulO-rfUMhOv",
        "colab_type": "code",
        "colab": {}
      },
      "source": [
        "# This Python 3 environment comes with many helpful analytics libraries installed\n",
        "# It is defined by the kaggle/python docker image: https://github.com/kaggle/docker-python\n",
        "# For example, here's several helpful packages to load in \n",
        "\n",
        "import numpy as np # linear algebra\n",
        "import pandas as pd # data processing, CSV file I/O (e.g. pd.read_csv)\n",
        "import matplotlib.pyplot as plt\n",
        "import seaborn as sns\n",
        "import os\n",
        "\n",
        "from sklearn import metrics\n",
        "from sklearn import preprocessing\n",
        "from sklearn.model_selection import train_test_split\n",
        "from sklearn.metrics import mean_squared_error, classification_report, accuracy_score\n",
        "from math import sqrt\n",
        "\n",
        "import numpy as np\n",
        "from sklearn                        import metrics, svm\n",
        "from sklearn.linear_model           import LinearRegression\n",
        "from sklearn.linear_model           import LogisticRegression\n",
        "from sklearn.tree                   import DecisionTreeClassifier\n",
        "from sklearn.neighbors              import KNeighborsClassifier\n",
        "from sklearn.discriminant_analysis  import LinearDiscriminantAnalysis\n",
        "from sklearn.naive_bayes            import GaussianNB\n",
        "from sklearn.svm                    import SVC\n",
        "\n",
        "import xgboost as xgb\n",
        "\n",
        "\n",
        "%matplotlib inline\n",
        "plt.style.use('fivethirtyeight') #style\n",
        "from IPython.display import display\n",
        "\n",
        "pd.set_option('display.max_columns', 500)\n",
        "# Input data files are available in the \"../input/\" directory.\n",
        "# For example, running this (by clicking run or pressing Shift+Enter) will list the files in the input directory\n"
      ],
      "execution_count": 0,
      "outputs": []
    },
    {
      "cell_type": "code",
      "metadata": {
        "id": "mcb17Bg2NLI9",
        "colab_type": "code",
        "colab": {}
      },
      "source": [
        ""
      ],
      "execution_count": 0,
      "outputs": []
    },
    {
      "cell_type": "code",
      "metadata": {
        "id": "ifxNYvWwqWE_",
        "colab_type": "code",
        "colab": {}
      },
      "source": [
        ""
      ],
      "execution_count": 0,
      "outputs": []
    },
    {
      "cell_type": "code",
      "metadata": {
        "id": "PO-DHVPlNPzc",
        "colab_type": "code",
        "colab": {}
      },
      "source": [
        "sample_t = train\n",
        "sample_y = test"
      ],
      "execution_count": 0,
      "outputs": []
    },
    {
      "cell_type": "code",
      "metadata": {
        "id": "2hXgQvAuNWEw",
        "colab_type": "code",
        "outputId": "8693ef6e-89b7-4cc0-d4c1-39660008c1f3",
        "colab": {
          "base_uri": "https://localhost:8080/",
          "height": 206
        }
      },
      "source": [
        "sample_t[['Comedian','Location','Volume']] = sample_t['Joke_identifier'].str.rsplit(n=2, expand=True)\n",
        "sample_y[['Comedian','Location','Volume']] = sample_y['Joke_identifier'].str.rsplit(n=2, expand=True)\n",
        "\n",
        "sample_t.head()"
      ],
      "execution_count": 0,
      "outputs": [
        {
          "output_type": "execute_result",
          "data": {
            "text/html": [
              "<div>\n",
              "<style scoped>\n",
              "    .dataframe tbody tr th:only-of-type {\n",
              "        vertical-align: middle;\n",
              "    }\n",
              "\n",
              "    .dataframe tbody tr th {\n",
              "        vertical-align: top;\n",
              "    }\n",
              "\n",
              "    .dataframe thead th {\n",
              "        text-align: right;\n",
              "    }\n",
              "</style>\n",
              "<table border=\"1\" class=\"dataframe\">\n",
              "  <thead>\n",
              "    <tr style=\"text-align: right;\">\n",
              "      <th></th>\n",
              "      <th>Viewers_ID</th>\n",
              "      <th>Joke_identifier</th>\n",
              "      <th>Response_ID</th>\n",
              "      <th>Rating</th>\n",
              "      <th>Comedian</th>\n",
              "      <th>Location</th>\n",
              "      <th>Volume</th>\n",
              "    </tr>\n",
              "  </thead>\n",
              "  <tbody>\n",
              "    <tr>\n",
              "      <th>0</th>\n",
              "      <td>A1</td>\n",
              "      <td>Klint De Drunk Enugu 1</td>\n",
              "      <td>A1_Klint De Drunk Enugu 1</td>\n",
              "      <td>0.11</td>\n",
              "      <td>Klint De Drunk</td>\n",
              "      <td>Enugu</td>\n",
              "      <td>1</td>\n",
              "    </tr>\n",
              "    <tr>\n",
              "      <th>1</th>\n",
              "      <td>A1</td>\n",
              "      <td>Klint De Drunk Enugu 2</td>\n",
              "      <td>A1_Klint De Drunk Enugu 2</td>\n",
              "      <td>-4.64</td>\n",
              "      <td>Klint De Drunk</td>\n",
              "      <td>Enugu</td>\n",
              "      <td>2</td>\n",
              "    </tr>\n",
              "    <tr>\n",
              "      <th>2</th>\n",
              "      <td>A1</td>\n",
              "      <td>Klint De Drunk PH 1</td>\n",
              "      <td>A1_Klint De Drunk PH 1</td>\n",
              "      <td>-3.39</td>\n",
              "      <td>Klint De Drunk</td>\n",
              "      <td>PH</td>\n",
              "      <td>1</td>\n",
              "    </tr>\n",
              "    <tr>\n",
              "      <th>3</th>\n",
              "      <td>A1</td>\n",
              "      <td>Klint De Drunk PH 2</td>\n",
              "      <td>A1_Klint De Drunk PH 2</td>\n",
              "      <td>0.44</td>\n",
              "      <td>Klint De Drunk</td>\n",
              "      <td>PH</td>\n",
              "      <td>2</td>\n",
              "    </tr>\n",
              "    <tr>\n",
              "      <th>4</th>\n",
              "      <td>A1</td>\n",
              "      <td>Klint De Drunk Lagos 1</td>\n",
              "      <td>A1_Klint De Drunk Lagos 1</td>\n",
              "      <td>-4.83</td>\n",
              "      <td>Klint De Drunk</td>\n",
              "      <td>Lagos</td>\n",
              "      <td>1</td>\n",
              "    </tr>\n",
              "  </tbody>\n",
              "</table>\n",
              "</div>"
            ],
            "text/plain": [
              "  Viewers_ID         Joke_identifier                Response_ID  Rating  \\\n",
              "0         A1  Klint De Drunk Enugu 1  A1_Klint De Drunk Enugu 1    0.11   \n",
              "1         A1  Klint De Drunk Enugu 2  A1_Klint De Drunk Enugu 2   -4.64   \n",
              "2         A1     Klint De Drunk PH 1     A1_Klint De Drunk PH 1   -3.39   \n",
              "3         A1     Klint De Drunk PH 2     A1_Klint De Drunk PH 2    0.44   \n",
              "4         A1  Klint De Drunk Lagos 1  A1_Klint De Drunk Lagos 1   -4.83   \n",
              "\n",
              "         Comedian Location Volume  \n",
              "0  Klint De Drunk    Enugu      1  \n",
              "1  Klint De Drunk    Enugu      2  \n",
              "2  Klint De Drunk       PH      1  \n",
              "3  Klint De Drunk       PH      2  \n",
              "4  Klint De Drunk    Lagos      1  "
            ]
          },
          "metadata": {
            "tags": []
          },
          "execution_count": 12
        }
      ]
    },
    {
      "cell_type": "code",
      "metadata": {
        "id": "AQuN9tGhY4QS",
        "colab_type": "code",
        "outputId": "a1baef00-0613-4356-ddfa-50e26cb470b4",
        "colab": {
          "base_uri": "https://localhost:8080/",
          "height": 363
        }
      },
      "source": [
        "sample_y.sample(10)"
      ],
      "execution_count": 0,
      "outputs": [
        {
          "output_type": "execute_result",
          "data": {
            "text/html": [
              "<div>\n",
              "<style scoped>\n",
              "    .dataframe tbody tr th:only-of-type {\n",
              "        vertical-align: middle;\n",
              "    }\n",
              "\n",
              "    .dataframe tbody tr th {\n",
              "        vertical-align: top;\n",
              "    }\n",
              "\n",
              "    .dataframe thead th {\n",
              "        text-align: right;\n",
              "    }\n",
              "</style>\n",
              "<table border=\"1\" class=\"dataframe\">\n",
              "  <thead>\n",
              "    <tr style=\"text-align: right;\">\n",
              "      <th></th>\n",
              "      <th>Viewers_ID</th>\n",
              "      <th>Joke_identifier</th>\n",
              "      <th>Response_ID</th>\n",
              "      <th>Comedian</th>\n",
              "      <th>Location</th>\n",
              "      <th>Volume</th>\n",
              "    </tr>\n",
              "  </thead>\n",
              "  <tbody>\n",
              "    <tr>\n",
              "      <th>414090</th>\n",
              "      <td>A8175</td>\n",
              "      <td>Okey Bakassi Lagos 4</td>\n",
              "      <td>A8175_Okey Bakassi Lagos 4</td>\n",
              "      <td>Okey Bakassi</td>\n",
              "      <td>Lagos</td>\n",
              "      <td>4</td>\n",
              "    </tr>\n",
              "    <tr>\n",
              "      <th>281163</th>\n",
              "      <td>A33289</td>\n",
              "      <td>Okey Bakassi Abuja 1</td>\n",
              "      <td>A33289_Okey Bakassi Abuja 1</td>\n",
              "      <td>Okey Bakassi</td>\n",
              "      <td>Abuja</td>\n",
              "      <td>1</td>\n",
              "    </tr>\n",
              "    <tr>\n",
              "      <th>302890</th>\n",
              "      <td>A35083</td>\n",
              "      <td>Saka Lagos 3</td>\n",
              "      <td>A35083_Saka Lagos 3</td>\n",
              "      <td>Saka</td>\n",
              "      <td>Lagos</td>\n",
              "      <td>3</td>\n",
              "    </tr>\n",
              "    <tr>\n",
              "      <th>144307</th>\n",
              "      <td>A22475</td>\n",
              "      <td>Helen Paul Abuja 2</td>\n",
              "      <td>A22475_Helen Paul Abuja 2</td>\n",
              "      <td>Helen Paul</td>\n",
              "      <td>Abuja</td>\n",
              "      <td>2</td>\n",
              "    </tr>\n",
              "    <tr>\n",
              "      <th>419146</th>\n",
              "      <td>A8618</td>\n",
              "      <td>Seyi Law Abuja 2</td>\n",
              "      <td>A8618_Seyi Law Abuja 2</td>\n",
              "      <td>Seyi Law</td>\n",
              "      <td>Abuja</td>\n",
              "      <td>2</td>\n",
              "    </tr>\n",
              "    <tr>\n",
              "      <th>307166</th>\n",
              "      <td>A35413</td>\n",
              "      <td>Gordons Lagos 1</td>\n",
              "      <td>A35413_Gordons Lagos 1</td>\n",
              "      <td>Gordons</td>\n",
              "      <td>Lagos</td>\n",
              "      <td>1</td>\n",
              "    </tr>\n",
              "    <tr>\n",
              "      <th>49369</th>\n",
              "      <td>A14432</td>\n",
              "      <td>Klint De Drunk Warri 1</td>\n",
              "      <td>A14432_Klint De Drunk Warri 1</td>\n",
              "      <td>Klint De Drunk</td>\n",
              "      <td>Warri</td>\n",
              "      <td>1</td>\n",
              "    </tr>\n",
              "    <tr>\n",
              "      <th>115372</th>\n",
              "      <td>A20180</td>\n",
              "      <td>Funny Bone Abuja 3</td>\n",
              "      <td>A20180_Funny Bone Abuja 3</td>\n",
              "      <td>Funny Bone</td>\n",
              "      <td>Abuja</td>\n",
              "      <td>3</td>\n",
              "    </tr>\n",
              "    <tr>\n",
              "      <th>335722</th>\n",
              "      <td>A37893</td>\n",
              "      <td>MisterIbu Lagos 4</td>\n",
              "      <td>A37893_MisterIbu Lagos 4</td>\n",
              "      <td>MisterIbu</td>\n",
              "      <td>Lagos</td>\n",
              "      <td>4</td>\n",
              "    </tr>\n",
              "    <tr>\n",
              "      <th>31718</th>\n",
              "      <td>A12602</td>\n",
              "      <td>Helen Paul Lagos 1</td>\n",
              "      <td>A12602_Helen Paul Lagos 1</td>\n",
              "      <td>Helen Paul</td>\n",
              "      <td>Lagos</td>\n",
              "      <td>1</td>\n",
              "    </tr>\n",
              "  </tbody>\n",
              "</table>\n",
              "</div>"
            ],
            "text/plain": [
              "       Viewers_ID          Joke_identifier                     Response_ID  \\\n",
              "414090      A8175     Okey Bakassi Lagos 4      A8175_Okey Bakassi Lagos 4   \n",
              "281163     A33289     Okey Bakassi Abuja 1     A33289_Okey Bakassi Abuja 1   \n",
              "302890     A35083             Saka Lagos 3             A35083_Saka Lagos 3   \n",
              "144307     A22475       Helen Paul Abuja 2       A22475_Helen Paul Abuja 2   \n",
              "419146      A8618         Seyi Law Abuja 2          A8618_Seyi Law Abuja 2   \n",
              "307166     A35413          Gordons Lagos 1          A35413_Gordons Lagos 1   \n",
              "49369      A14432  Klint De Drunk Warri 1   A14432_Klint De Drunk Warri 1    \n",
              "115372     A20180       Funny Bone Abuja 3       A20180_Funny Bone Abuja 3   \n",
              "335722     A37893        MisterIbu Lagos 4        A37893_MisterIbu Lagos 4   \n",
              "31718      A12602       Helen Paul Lagos 1       A12602_Helen Paul Lagos 1   \n",
              "\n",
              "              Comedian Location Volume  \n",
              "414090    Okey Bakassi    Lagos      4  \n",
              "281163    Okey Bakassi    Abuja      1  \n",
              "302890            Saka    Lagos      3  \n",
              "144307      Helen Paul    Abuja      2  \n",
              "419146        Seyi Law    Abuja      2  \n",
              "307166         Gordons    Lagos      1  \n",
              "49369   Klint De Drunk    Warri      1  \n",
              "115372      Funny Bone    Abuja      3  \n",
              "335722       MisterIbu    Lagos      4  \n",
              "31718       Helen Paul    Lagos      1  "
            ]
          },
          "metadata": {
            "tags": []
          },
          "execution_count": 13
        }
      ]
    },
    {
      "cell_type": "code",
      "metadata": {
        "id": "_ggQyf_CNYaF",
        "colab_type": "code",
        "outputId": "10225fcb-7fc5-407e-b762-d9686dbf08a9",
        "colab": {
          "base_uri": "https://localhost:8080/",
          "height": 409
        }
      },
      "source": [
        "sample_t.Comedian[sample_t.Comedian == 'AliBaba Aso'] = 'AliBaba'\n",
        "sample_t.Location[sample_t.Location == 'Rock'] = 'Aso Rock'\n",
        "\n",
        "sample_y.Comedian[sample_y.Comedian == 'AliBaba Aso'] = 'AliBaba'\n",
        "sample_y.Location[sample_y.Location == 'Rock'] = 'Aso Rock'\n",
        "\n",
        "sample_y.head()"
      ],
      "execution_count": 0,
      "outputs": [
        {
          "output_type": "stream",
          "text": [
            "/usr/local/lib/python3.6/dist-packages/ipykernel_launcher.py:1: SettingWithCopyWarning: \n",
            "A value is trying to be set on a copy of a slice from a DataFrame\n",
            "\n",
            "See the caveats in the documentation: http://pandas.pydata.org/pandas-docs/stable/indexing.html#indexing-view-versus-copy\n",
            "  \"\"\"Entry point for launching an IPython kernel.\n",
            "/usr/local/lib/python3.6/dist-packages/ipykernel_launcher.py:2: SettingWithCopyWarning: \n",
            "A value is trying to be set on a copy of a slice from a DataFrame\n",
            "\n",
            "See the caveats in the documentation: http://pandas.pydata.org/pandas-docs/stable/indexing.html#indexing-view-versus-copy\n",
            "  \n"
          ],
          "name": "stderr"
        },
        {
          "output_type": "execute_result",
          "data": {
            "text/html": [
              "<div>\n",
              "<style scoped>\n",
              "    .dataframe tbody tr th:only-of-type {\n",
              "        vertical-align: middle;\n",
              "    }\n",
              "\n",
              "    .dataframe tbody tr th {\n",
              "        vertical-align: top;\n",
              "    }\n",
              "\n",
              "    .dataframe thead th {\n",
              "        text-align: right;\n",
              "    }\n",
              "</style>\n",
              "<table border=\"1\" class=\"dataframe\">\n",
              "  <thead>\n",
              "    <tr style=\"text-align: right;\">\n",
              "      <th></th>\n",
              "      <th>Viewers_ID</th>\n",
              "      <th>Joke_identifier</th>\n",
              "      <th>Response_ID</th>\n",
              "      <th>Comedian</th>\n",
              "      <th>Location</th>\n",
              "      <th>Volume</th>\n",
              "    </tr>\n",
              "  </thead>\n",
              "  <tbody>\n",
              "    <tr>\n",
              "      <th>0</th>\n",
              "      <td>A1</td>\n",
              "      <td>Akpororo Lagos 1</td>\n",
              "      <td>A1_Akpororo Lagos 1</td>\n",
              "      <td>Akpororo</td>\n",
              "      <td>Lagos</td>\n",
              "      <td>1</td>\n",
              "    </tr>\n",
              "    <tr>\n",
              "      <th>1</th>\n",
              "      <td>A1</td>\n",
              "      <td>Akpororo Abuja 1</td>\n",
              "      <td>A1_Akpororo Abuja 1</td>\n",
              "      <td>Akpororo</td>\n",
              "      <td>Abuja</td>\n",
              "      <td>1</td>\n",
              "    </tr>\n",
              "    <tr>\n",
              "      <th>2</th>\n",
              "      <td>A1</td>\n",
              "      <td>Akpororo Abuja 5</td>\n",
              "      <td>A1_Akpororo Abuja 5</td>\n",
              "      <td>Akpororo</td>\n",
              "      <td>Abuja</td>\n",
              "      <td>5</td>\n",
              "    </tr>\n",
              "    <tr>\n",
              "      <th>3</th>\n",
              "      <td>A1</td>\n",
              "      <td>I Go Dye Benin 1</td>\n",
              "      <td>A1_I Go Dye Benin 1</td>\n",
              "      <td>I Go Dye</td>\n",
              "      <td>Benin</td>\n",
              "      <td>1</td>\n",
              "    </tr>\n",
              "    <tr>\n",
              "      <th>4</th>\n",
              "      <td>A1</td>\n",
              "      <td>I Go Dye Benin 3</td>\n",
              "      <td>A1_I Go Dye Benin 3</td>\n",
              "      <td>I Go Dye</td>\n",
              "      <td>Benin</td>\n",
              "      <td>3</td>\n",
              "    </tr>\n",
              "  </tbody>\n",
              "</table>\n",
              "</div>"
            ],
            "text/plain": [
              "  Viewers_ID   Joke_identifier          Response_ID  Comedian Location Volume\n",
              "0         A1  Akpororo Lagos 1  A1_Akpororo Lagos 1  Akpororo    Lagos      1\n",
              "1         A1  Akpororo Abuja 1  A1_Akpororo Abuja 1  Akpororo    Abuja      1\n",
              "2         A1  Akpororo Abuja 5  A1_Akpororo Abuja 5  Akpororo    Abuja      5\n",
              "3         A1  I Go Dye Benin 1  A1_I Go Dye Benin 1  I Go Dye    Benin      1\n",
              "4         A1  I Go Dye Benin 3  A1_I Go Dye Benin 3  I Go Dye    Benin      3"
            ]
          },
          "metadata": {
            "tags": []
          },
          "execution_count": 14
        }
      ]
    },
    {
      "cell_type": "code",
      "metadata": {
        "id": "HNuNKjL9Zj3D",
        "colab_type": "code",
        "colab": {}
      },
      "source": [
        ""
      ],
      "execution_count": 0,
      "outputs": []
    },
    {
      "cell_type": "code",
      "metadata": {
        "id": "9YfxxtKNpRCw",
        "colab_type": "code",
        "outputId": "e678295e-6b27-4699-84b8-1adfef134104",
        "colab": {
          "base_uri": "https://localhost:8080/",
          "height": 206
        }
      },
      "source": [
        "sample_t['Viewers_status'] = sample_t.Viewers_ID.map(sample_t.Viewers_ID.value_counts())\n",
        "sample_y['Viewers_status'] = sample_y.Viewers_ID.map(sample_y.Viewers_ID.value_counts())\n",
        "sample_t.sample(5)"
      ],
      "execution_count": 0,
      "outputs": [
        {
          "output_type": "execute_result",
          "data": {
            "text/html": [
              "<div>\n",
              "<style scoped>\n",
              "    .dataframe tbody tr th:only-of-type {\n",
              "        vertical-align: middle;\n",
              "    }\n",
              "\n",
              "    .dataframe tbody tr th {\n",
              "        vertical-align: top;\n",
              "    }\n",
              "\n",
              "    .dataframe thead th {\n",
              "        text-align: right;\n",
              "    }\n",
              "</style>\n",
              "<table border=\"1\" class=\"dataframe\">\n",
              "  <thead>\n",
              "    <tr style=\"text-align: right;\">\n",
              "      <th></th>\n",
              "      <th>Viewers_ID</th>\n",
              "      <th>Joke_identifier</th>\n",
              "      <th>Response_ID</th>\n",
              "      <th>Rating</th>\n",
              "      <th>Comedian</th>\n",
              "      <th>Location</th>\n",
              "      <th>Volume</th>\n",
              "      <th>Viewers_status</th>\n",
              "    </tr>\n",
              "  </thead>\n",
              "  <tbody>\n",
              "    <tr>\n",
              "      <th>543091</th>\n",
              "      <td>A5506</td>\n",
              "      <td>Klint De Drunk PH 2</td>\n",
              "      <td>A5506_Klint De Drunk PH 2</td>\n",
              "      <td>-0.66</td>\n",
              "      <td>Klint De Drunk</td>\n",
              "      <td>PH</td>\n",
              "      <td>2</td>\n",
              "      <td>26</td>\n",
              "    </tr>\n",
              "    <tr>\n",
              "      <th>586322</th>\n",
              "      <td>A8438</td>\n",
              "      <td>AliBaba Abuja 2</td>\n",
              "      <td>A8438_AliBaba Abuja 2</td>\n",
              "      <td>4.52</td>\n",
              "      <td>AliBaba</td>\n",
              "      <td>Abuja</td>\n",
              "      <td>2</td>\n",
              "      <td>11</td>\n",
              "    </tr>\n",
              "    <tr>\n",
              "      <th>136952</th>\n",
              "      <td>A18811</td>\n",
              "      <td>AY Lagos 1</td>\n",
              "      <td>A18811_AY Lagos 1</td>\n",
              "      <td>3.03</td>\n",
              "      <td>AY</td>\n",
              "      <td>Lagos</td>\n",
              "      <td>1</td>\n",
              "      <td>16</td>\n",
              "    </tr>\n",
              "    <tr>\n",
              "      <th>320732</th>\n",
              "      <td>A29165</td>\n",
              "      <td>Akpororo Abuja 2</td>\n",
              "      <td>A29165_Akpororo Abuja 2</td>\n",
              "      <td>-1.22</td>\n",
              "      <td>Akpororo</td>\n",
              "      <td>Abuja</td>\n",
              "      <td>2</td>\n",
              "      <td>22</td>\n",
              "    </tr>\n",
              "    <tr>\n",
              "      <th>23749</th>\n",
              "      <td>A11480</td>\n",
              "      <td>Klint De Drunk PH 2</td>\n",
              "      <td>A11480_Klint De Drunk PH 2</td>\n",
              "      <td>-3.02</td>\n",
              "      <td>Klint De Drunk</td>\n",
              "      <td>PH</td>\n",
              "      <td>2</td>\n",
              "      <td>6</td>\n",
              "    </tr>\n",
              "  </tbody>\n",
              "</table>\n",
              "</div>"
            ],
            "text/plain": [
              "       Viewers_ID      Joke_identifier                 Response_ID  Rating  \\\n",
              "543091      A5506  Klint De Drunk PH 2   A5506_Klint De Drunk PH 2   -0.66   \n",
              "586322      A8438      AliBaba Abuja 2       A8438_AliBaba Abuja 2    4.52   \n",
              "136952     A18811           AY Lagos 1           A18811_AY Lagos 1    3.03   \n",
              "320732     A29165     Akpororo Abuja 2     A29165_Akpororo Abuja 2   -1.22   \n",
              "23749      A11480  Klint De Drunk PH 2  A11480_Klint De Drunk PH 2   -3.02   \n",
              "\n",
              "              Comedian Location Volume  Viewers_status  \n",
              "543091  Klint De Drunk       PH      2              26  \n",
              "586322         AliBaba    Abuja      2              11  \n",
              "136952              AY    Lagos      1              16  \n",
              "320732        Akpororo    Abuja      2              22  \n",
              "23749   Klint De Drunk       PH      2               6  "
            ]
          },
          "metadata": {
            "tags": []
          },
          "execution_count": 15
        }
      ]
    },
    {
      "cell_type": "code",
      "metadata": {
        "id": "S6CQsfjAHD6t",
        "colab_type": "code",
        "outputId": "a7c0d0e6-c79b-42fd-8a19-c0dc3294673d",
        "colab": {
          "base_uri": "https://localhost:8080/",
          "height": 72
        }
      },
      "source": [
        "sample_y['Viewers_status'].unique()"
      ],
      "execution_count": 0,
      "outputs": [
        {
          "output_type": "execute_result",
          "data": {
            "text/plain": [
              "array([16,  6, 32, 33,  4,  5,  7,  3, 18, 34, 19, 12, 10, 11, 22,  9, 17,\n",
              "        8, 21, 15, 23, 27, 28, 26, 14, 13, 24, 29, 30, 20,  2, 25, 31, 37,\n",
              "       36, 35])"
            ]
          },
          "metadata": {
            "tags": []
          },
          "execution_count": 16
        }
      ]
    },
    {
      "cell_type": "code",
      "metadata": {
        "id": "KEuiRDixrYzy",
        "colab_type": "code",
        "outputId": "e1dacb55-41ad-474f-fb6e-67e1b138e7f4",
        "colab": {
          "base_uri": "https://localhost:8080/",
          "height": 293
        }
      },
      "source": [
        "def expertise(stat):\n",
        "  if stat <= 10:\n",
        "    return 1\n",
        "  if stat > 10 and stat <=20:\n",
        "    return 2\n",
        "  if stat > 20 and stat <=30:\n",
        "    return 3\n",
        "  if stat > 30:\n",
        "    return 4\n",
        "\n",
        "sample_t['Viewers_expertise'] = sample_t.Viewers_status.apply(expertise)\n",
        "sample_y['Viewers_expertise'] = sample_y.Viewers_status.apply(expertise)\n",
        "sample_t.sample(5)"
      ],
      "execution_count": 0,
      "outputs": [
        {
          "output_type": "execute_result",
          "data": {
            "text/html": [
              "<div>\n",
              "<style scoped>\n",
              "    .dataframe tbody tr th:only-of-type {\n",
              "        vertical-align: middle;\n",
              "    }\n",
              "\n",
              "    .dataframe tbody tr th {\n",
              "        vertical-align: top;\n",
              "    }\n",
              "\n",
              "    .dataframe thead th {\n",
              "        text-align: right;\n",
              "    }\n",
              "</style>\n",
              "<table border=\"1\" class=\"dataframe\">\n",
              "  <thead>\n",
              "    <tr style=\"text-align: right;\">\n",
              "      <th></th>\n",
              "      <th>Viewers_ID</th>\n",
              "      <th>Joke_identifier</th>\n",
              "      <th>Response_ID</th>\n",
              "      <th>Rating</th>\n",
              "      <th>Comedian</th>\n",
              "      <th>Location</th>\n",
              "      <th>Volume</th>\n",
              "      <th>Viewers_status</th>\n",
              "      <th>Viewers_expertise</th>\n",
              "    </tr>\n",
              "  </thead>\n",
              "  <tbody>\n",
              "    <tr>\n",
              "      <th>489855</th>\n",
              "      <td>A38887</td>\n",
              "      <td>Bovi Abuja 2</td>\n",
              "      <td>A38887_Bovi Abuja 2</td>\n",
              "      <td>0.52</td>\n",
              "      <td>Bovi</td>\n",
              "      <td>Abuja</td>\n",
              "      <td>2</td>\n",
              "      <td>51</td>\n",
              "      <td>4</td>\n",
              "    </tr>\n",
              "    <tr>\n",
              "      <th>221761</th>\n",
              "      <td>A23479</td>\n",
              "      <td>AliBaba Lagos 5</td>\n",
              "      <td>A23479_AliBaba Lagos 5</td>\n",
              "      <td>1.22</td>\n",
              "      <td>AliBaba</td>\n",
              "      <td>Lagos</td>\n",
              "      <td>5</td>\n",
              "      <td>20</td>\n",
              "      <td>2</td>\n",
              "    </tr>\n",
              "    <tr>\n",
              "      <th>447525</th>\n",
              "      <td>A36363</td>\n",
              "      <td>Gordons Lagos 2</td>\n",
              "      <td>A36363_Gordons Lagos 2</td>\n",
              "      <td>-0.78</td>\n",
              "      <td>Gordons</td>\n",
              "      <td>Lagos</td>\n",
              "      <td>2</td>\n",
              "      <td>19</td>\n",
              "      <td>2</td>\n",
              "    </tr>\n",
              "    <tr>\n",
              "      <th>94708</th>\n",
              "      <td>A16297</td>\n",
              "      <td>Akpororo Abuja 1</td>\n",
              "      <td>A16297_Akpororo Abuja 1</td>\n",
              "      <td>0.77</td>\n",
              "      <td>Akpororo</td>\n",
              "      <td>Abuja</td>\n",
              "      <td>1</td>\n",
              "      <td>27</td>\n",
              "      <td>3</td>\n",
              "    </tr>\n",
              "    <tr>\n",
              "      <th>419807</th>\n",
              "      <td>A34703</td>\n",
              "      <td>I Go Dye Lagos 1</td>\n",
              "      <td>A34703_I Go Dye Lagos 1</td>\n",
              "      <td>-3.56</td>\n",
              "      <td>I Go Dye</td>\n",
              "      <td>Lagos</td>\n",
              "      <td>1</td>\n",
              "      <td>43</td>\n",
              "      <td>4</td>\n",
              "    </tr>\n",
              "  </tbody>\n",
              "</table>\n",
              "</div>"
            ],
            "text/plain": [
              "       Viewers_ID   Joke_identifier              Response_ID  Rating  \\\n",
              "489855     A38887      Bovi Abuja 2      A38887_Bovi Abuja 2    0.52   \n",
              "221761     A23479   AliBaba Lagos 5   A23479_AliBaba Lagos 5    1.22   \n",
              "447525     A36363   Gordons Lagos 2   A36363_Gordons Lagos 2   -0.78   \n",
              "94708      A16297  Akpororo Abuja 1  A16297_Akpororo Abuja 1    0.77   \n",
              "419807     A34703  I Go Dye Lagos 1  A34703_I Go Dye Lagos 1   -3.56   \n",
              "\n",
              "        Comedian Location Volume  Viewers_status  Viewers_expertise  \n",
              "489855      Bovi    Abuja      2              51                  4  \n",
              "221761   AliBaba    Lagos      5              20                  2  \n",
              "447525   Gordons    Lagos      2              19                  2  \n",
              "94708   Akpororo    Abuja      1              27                  3  \n",
              "419807  I Go Dye    Lagos      1              43                  4  "
            ]
          },
          "metadata": {
            "tags": []
          },
          "execution_count": 17
        }
      ]
    },
    {
      "cell_type": "code",
      "metadata": {
        "id": "TcSu-T0YNhgq",
        "colab_type": "code",
        "outputId": "8d77e8b8-f1bc-494e-e1b6-9c58ad1ca737",
        "colab": {
          "base_uri": "https://localhost:8080/",
          "height": 206
        }
      },
      "source": [
        "revamped_df = sample_t.drop(['Joke_identifier','Response_ID','Viewers_status'], axis=1)\n",
        "test_df = sample_y.drop(['Joke_identifier','Response_ID','Viewers_status'], axis=1)\n",
        "revamped_df.head()"
      ],
      "execution_count": 0,
      "outputs": [
        {
          "output_type": "execute_result",
          "data": {
            "text/html": [
              "<div>\n",
              "<style scoped>\n",
              "    .dataframe tbody tr th:only-of-type {\n",
              "        vertical-align: middle;\n",
              "    }\n",
              "\n",
              "    .dataframe tbody tr th {\n",
              "        vertical-align: top;\n",
              "    }\n",
              "\n",
              "    .dataframe thead th {\n",
              "        text-align: right;\n",
              "    }\n",
              "</style>\n",
              "<table border=\"1\" class=\"dataframe\">\n",
              "  <thead>\n",
              "    <tr style=\"text-align: right;\">\n",
              "      <th></th>\n",
              "      <th>Viewers_ID</th>\n",
              "      <th>Rating</th>\n",
              "      <th>Comedian</th>\n",
              "      <th>Location</th>\n",
              "      <th>Volume</th>\n",
              "      <th>Viewers_expertise</th>\n",
              "    </tr>\n",
              "  </thead>\n",
              "  <tbody>\n",
              "    <tr>\n",
              "      <th>0</th>\n",
              "      <td>A1</td>\n",
              "      <td>0.11</td>\n",
              "      <td>Klint De Drunk</td>\n",
              "      <td>Enugu</td>\n",
              "      <td>1</td>\n",
              "      <td>3</td>\n",
              "    </tr>\n",
              "    <tr>\n",
              "      <th>1</th>\n",
              "      <td>A1</td>\n",
              "      <td>-4.64</td>\n",
              "      <td>Klint De Drunk</td>\n",
              "      <td>Enugu</td>\n",
              "      <td>2</td>\n",
              "      <td>3</td>\n",
              "    </tr>\n",
              "    <tr>\n",
              "      <th>2</th>\n",
              "      <td>A1</td>\n",
              "      <td>-3.39</td>\n",
              "      <td>Klint De Drunk</td>\n",
              "      <td>PH</td>\n",
              "      <td>1</td>\n",
              "      <td>3</td>\n",
              "    </tr>\n",
              "    <tr>\n",
              "      <th>3</th>\n",
              "      <td>A1</td>\n",
              "      <td>0.44</td>\n",
              "      <td>Klint De Drunk</td>\n",
              "      <td>PH</td>\n",
              "      <td>2</td>\n",
              "      <td>3</td>\n",
              "    </tr>\n",
              "    <tr>\n",
              "      <th>4</th>\n",
              "      <td>A1</td>\n",
              "      <td>-4.83</td>\n",
              "      <td>Klint De Drunk</td>\n",
              "      <td>Lagos</td>\n",
              "      <td>1</td>\n",
              "      <td>3</td>\n",
              "    </tr>\n",
              "  </tbody>\n",
              "</table>\n",
              "</div>"
            ],
            "text/plain": [
              "  Viewers_ID  Rating        Comedian Location Volume  Viewers_expertise\n",
              "0         A1    0.11  Klint De Drunk    Enugu      1                  3\n",
              "1         A1   -4.64  Klint De Drunk    Enugu      2                  3\n",
              "2         A1   -3.39  Klint De Drunk       PH      1                  3\n",
              "3         A1    0.44  Klint De Drunk       PH      2                  3\n",
              "4         A1   -4.83  Klint De Drunk    Lagos      1                  3"
            ]
          },
          "metadata": {
            "tags": []
          },
          "execution_count": 18
        }
      ]
    },
    {
      "cell_type": "code",
      "metadata": {
        "id": "sKdjd0WrNlj9",
        "colab_type": "code",
        "outputId": "3e1073b1-54d6-4e31-bc53-3087c91a7dcc",
        "colab": {
          "base_uri": "https://localhost:8080/",
          "height": 206
        }
      },
      "source": [
        "revamped_df['Location'] = revamped_df['Location'].str.strip().map({'Enugu':1, 'PH':2, 'Lagos':3, 'Warri':4, 'Aso Rock':5, 'Abuja':6, 'Owerri':1, 'Benin':8, 'Uyo':9, 'Ibadan':10})\n",
        "revamped_df['Comedian'] = revamped_df['Comedian'].str.strip().map({'Klint De Drunk':1, 'AliBaba':2, 'BasketMouth':3, 'AY':4, 'Bovi':5, 'Akpororo':6, 'I Go Dye':7, 'Helen Paul':8, 'Seyi Law':9, 'Gordons':10, 'Saka':11, 'Okey Bakassi':12, 'Funny Bone':13, 'MisterIbu':11})\n",
        "\n",
        "test_df['Location'] = test_df['Location'].str.strip().map({'Enugu':1, 'PH':2, 'Lagos':3, 'Warri':4, 'Aso Rock':5, 'Abuja':6, 'Owerri':1, 'Benin':8, 'Uyo':9, 'Ibadan':10})\n",
        "test_df['Comedian'] = test_df['Comedian'].str.strip().map({'Klint De Drunk':1, 'AliBaba':2, 'BasketMouth':3, 'AY':4, 'Bovi':5, 'Akpororo':6, 'I Go Dye':7, 'Helen Paul':8, 'Seyi Law':9, 'Gordons':10, 'Saka':11, 'Okey Bakassi':12, 'Funny Bone':13, 'MisterIbu':11})\n",
        "\n",
        "revamped_df.head()"
      ],
      "execution_count": 0,
      "outputs": [
        {
          "output_type": "execute_result",
          "data": {
            "text/html": [
              "<div>\n",
              "<style scoped>\n",
              "    .dataframe tbody tr th:only-of-type {\n",
              "        vertical-align: middle;\n",
              "    }\n",
              "\n",
              "    .dataframe tbody tr th {\n",
              "        vertical-align: top;\n",
              "    }\n",
              "\n",
              "    .dataframe thead th {\n",
              "        text-align: right;\n",
              "    }\n",
              "</style>\n",
              "<table border=\"1\" class=\"dataframe\">\n",
              "  <thead>\n",
              "    <tr style=\"text-align: right;\">\n",
              "      <th></th>\n",
              "      <th>Viewers_ID</th>\n",
              "      <th>Rating</th>\n",
              "      <th>Comedian</th>\n",
              "      <th>Location</th>\n",
              "      <th>Volume</th>\n",
              "      <th>Viewers_expertise</th>\n",
              "    </tr>\n",
              "  </thead>\n",
              "  <tbody>\n",
              "    <tr>\n",
              "      <th>0</th>\n",
              "      <td>A1</td>\n",
              "      <td>0.11</td>\n",
              "      <td>1</td>\n",
              "      <td>1</td>\n",
              "      <td>1</td>\n",
              "      <td>3</td>\n",
              "    </tr>\n",
              "    <tr>\n",
              "      <th>1</th>\n",
              "      <td>A1</td>\n",
              "      <td>-4.64</td>\n",
              "      <td>1</td>\n",
              "      <td>1</td>\n",
              "      <td>2</td>\n",
              "      <td>3</td>\n",
              "    </tr>\n",
              "    <tr>\n",
              "      <th>2</th>\n",
              "      <td>A1</td>\n",
              "      <td>-3.39</td>\n",
              "      <td>1</td>\n",
              "      <td>2</td>\n",
              "      <td>1</td>\n",
              "      <td>3</td>\n",
              "    </tr>\n",
              "    <tr>\n",
              "      <th>3</th>\n",
              "      <td>A1</td>\n",
              "      <td>0.44</td>\n",
              "      <td>1</td>\n",
              "      <td>2</td>\n",
              "      <td>2</td>\n",
              "      <td>3</td>\n",
              "    </tr>\n",
              "    <tr>\n",
              "      <th>4</th>\n",
              "      <td>A1</td>\n",
              "      <td>-4.83</td>\n",
              "      <td>1</td>\n",
              "      <td>3</td>\n",
              "      <td>1</td>\n",
              "      <td>3</td>\n",
              "    </tr>\n",
              "  </tbody>\n",
              "</table>\n",
              "</div>"
            ],
            "text/plain": [
              "  Viewers_ID  Rating  Comedian  Location Volume  Viewers_expertise\n",
              "0         A1    0.11         1         1      1                  3\n",
              "1         A1   -4.64         1         1      2                  3\n",
              "2         A1   -3.39         1         2      1                  3\n",
              "3         A1    0.44         1         2      2                  3\n",
              "4         A1   -4.83         1         3      1                  3"
            ]
          },
          "metadata": {
            "tags": []
          },
          "execution_count": 19
        }
      ]
    },
    {
      "cell_type": "code",
      "metadata": {
        "id": "Xum5mrkja-vQ",
        "colab_type": "code",
        "outputId": "ff12565b-6a33-4b19-ceda-73bb8d3756c2",
        "colab": {
          "base_uri": "https://localhost:8080/",
          "height": 206
        }
      },
      "source": [
        "test_df.head()"
      ],
      "execution_count": 0,
      "outputs": [
        {
          "output_type": "execute_result",
          "data": {
            "text/html": [
              "<div>\n",
              "<style scoped>\n",
              "    .dataframe tbody tr th:only-of-type {\n",
              "        vertical-align: middle;\n",
              "    }\n",
              "\n",
              "    .dataframe tbody tr th {\n",
              "        vertical-align: top;\n",
              "    }\n",
              "\n",
              "    .dataframe thead th {\n",
              "        text-align: right;\n",
              "    }\n",
              "</style>\n",
              "<table border=\"1\" class=\"dataframe\">\n",
              "  <thead>\n",
              "    <tr style=\"text-align: right;\">\n",
              "      <th></th>\n",
              "      <th>Viewers_ID</th>\n",
              "      <th>Comedian</th>\n",
              "      <th>Location</th>\n",
              "      <th>Volume</th>\n",
              "      <th>Viewers_expertise</th>\n",
              "    </tr>\n",
              "  </thead>\n",
              "  <tbody>\n",
              "    <tr>\n",
              "      <th>0</th>\n",
              "      <td>A1</td>\n",
              "      <td>6</td>\n",
              "      <td>3</td>\n",
              "      <td>1</td>\n",
              "      <td>2</td>\n",
              "    </tr>\n",
              "    <tr>\n",
              "      <th>1</th>\n",
              "      <td>A1</td>\n",
              "      <td>6</td>\n",
              "      <td>6</td>\n",
              "      <td>1</td>\n",
              "      <td>2</td>\n",
              "    </tr>\n",
              "    <tr>\n",
              "      <th>2</th>\n",
              "      <td>A1</td>\n",
              "      <td>6</td>\n",
              "      <td>6</td>\n",
              "      <td>5</td>\n",
              "      <td>2</td>\n",
              "    </tr>\n",
              "    <tr>\n",
              "      <th>3</th>\n",
              "      <td>A1</td>\n",
              "      <td>7</td>\n",
              "      <td>8</td>\n",
              "      <td>1</td>\n",
              "      <td>2</td>\n",
              "    </tr>\n",
              "    <tr>\n",
              "      <th>4</th>\n",
              "      <td>A1</td>\n",
              "      <td>7</td>\n",
              "      <td>8</td>\n",
              "      <td>3</td>\n",
              "      <td>2</td>\n",
              "    </tr>\n",
              "  </tbody>\n",
              "</table>\n",
              "</div>"
            ],
            "text/plain": [
              "  Viewers_ID  Comedian  Location Volume  Viewers_expertise\n",
              "0         A1         6         3      1                  2\n",
              "1         A1         6         6      1                  2\n",
              "2         A1         6         6      5                  2\n",
              "3         A1         7         8      1                  2\n",
              "4         A1         7         8      3                  2"
            ]
          },
          "metadata": {
            "tags": []
          },
          "execution_count": 20
        }
      ]
    },
    {
      "cell_type": "code",
      "metadata": {
        "id": "KL5TXTcdNohc",
        "colab_type": "code",
        "outputId": "52b46771-b14f-481f-c968-140e97ce2e1c",
        "colab": {
          "base_uri": "https://localhost:8080/",
          "height": 35
        }
      },
      "source": [
        "revamped_df['Viewers_ID'] = revamped_df['Viewers_ID'].str[1:]\n",
        "revamped_df['Viewers_ID'] = pd.to_numeric(revamped_df['Viewers_ID'], errors='coerce')\n",
        "\n",
        "test_df['Viewers_ID'] = test_df['Viewers_ID'].str[1:]\n",
        "test_df['Viewers_ID'] = pd.to_numeric(test_df['Viewers_ID'], errors='coerce')\n",
        "\n",
        "revamped_df['Viewers_ID'].dtypes"
      ],
      "execution_count": 0,
      "outputs": [
        {
          "output_type": "execute_result",
          "data": {
            "text/plain": [
              "dtype('int64')"
            ]
          },
          "metadata": {
            "tags": []
          },
          "execution_count": 21
        }
      ]
    },
    {
      "cell_type": "code",
      "metadata": {
        "id": "fTAm2gTBLSJA",
        "colab_type": "code",
        "outputId": "ce14bd83-0b1b-4f61-b28e-d54340b515df",
        "colab": {
          "base_uri": "https://localhost:8080/",
          "height": 206
        }
      },
      "source": [
        "revamped_df.head()"
      ],
      "execution_count": 0,
      "outputs": [
        {
          "output_type": "execute_result",
          "data": {
            "text/html": [
              "<div>\n",
              "<style scoped>\n",
              "    .dataframe tbody tr th:only-of-type {\n",
              "        vertical-align: middle;\n",
              "    }\n",
              "\n",
              "    .dataframe tbody tr th {\n",
              "        vertical-align: top;\n",
              "    }\n",
              "\n",
              "    .dataframe thead th {\n",
              "        text-align: right;\n",
              "    }\n",
              "</style>\n",
              "<table border=\"1\" class=\"dataframe\">\n",
              "  <thead>\n",
              "    <tr style=\"text-align: right;\">\n",
              "      <th></th>\n",
              "      <th>Viewers_ID</th>\n",
              "      <th>Rating</th>\n",
              "      <th>Comedian</th>\n",
              "      <th>Location</th>\n",
              "      <th>Volume</th>\n",
              "      <th>Viewers_expertise</th>\n",
              "    </tr>\n",
              "  </thead>\n",
              "  <tbody>\n",
              "    <tr>\n",
              "      <th>0</th>\n",
              "      <td>1</td>\n",
              "      <td>0.11</td>\n",
              "      <td>1</td>\n",
              "      <td>1</td>\n",
              "      <td>1</td>\n",
              "      <td>3</td>\n",
              "    </tr>\n",
              "    <tr>\n",
              "      <th>1</th>\n",
              "      <td>1</td>\n",
              "      <td>-4.64</td>\n",
              "      <td>1</td>\n",
              "      <td>1</td>\n",
              "      <td>2</td>\n",
              "      <td>3</td>\n",
              "    </tr>\n",
              "    <tr>\n",
              "      <th>2</th>\n",
              "      <td>1</td>\n",
              "      <td>-3.39</td>\n",
              "      <td>1</td>\n",
              "      <td>2</td>\n",
              "      <td>1</td>\n",
              "      <td>3</td>\n",
              "    </tr>\n",
              "    <tr>\n",
              "      <th>3</th>\n",
              "      <td>1</td>\n",
              "      <td>0.44</td>\n",
              "      <td>1</td>\n",
              "      <td>2</td>\n",
              "      <td>2</td>\n",
              "      <td>3</td>\n",
              "    </tr>\n",
              "    <tr>\n",
              "      <th>4</th>\n",
              "      <td>1</td>\n",
              "      <td>-4.83</td>\n",
              "      <td>1</td>\n",
              "      <td>3</td>\n",
              "      <td>1</td>\n",
              "      <td>3</td>\n",
              "    </tr>\n",
              "  </tbody>\n",
              "</table>\n",
              "</div>"
            ],
            "text/plain": [
              "   Viewers_ID  Rating  Comedian  Location Volume  Viewers_expertise\n",
              "0           1    0.11         1         1      1                  3\n",
              "1           1   -4.64         1         1      2                  3\n",
              "2           1   -3.39         1         2      1                  3\n",
              "3           1    0.44         1         2      2                  3\n",
              "4           1   -4.83         1         3      1                  3"
            ]
          },
          "metadata": {
            "tags": []
          },
          "execution_count": 22
        }
      ]
    },
    {
      "cell_type": "code",
      "metadata": {
        "id": "C_A4DAWTLWmr",
        "colab_type": "code",
        "colab": {}
      },
      "source": [
        "# ##plotting the relation of potential vs overall_rating \n",
        "# import matplotlib.pyplot as plt\n",
        "# plt.figure(figsize=(13,14))\n",
        "# plt.scatter(revamped_df[revamped_df.Comedian == 1],revamped_df.Rating, c='b')\n",
        "# plt.xlabel(\"Viewers_ID\")\n",
        "# plt.ylabel(\"rating\")\n",
        "# plt.show()\n",
        "\n",
        "# revamped_df[revamped_df.Comedian == 1]"
      ],
      "execution_count": 0,
      "outputs": []
    },
    {
      "cell_type": "code",
      "metadata": {
        "id": "GX8Q7D25Nr7K",
        "colab_type": "code",
        "colab": {}
      },
      "source": [
        ""
      ],
      "execution_count": 0,
      "outputs": []
    },
    {
      "cell_type": "code",
      "metadata": {
        "id": "ma9jwk5gNvVm",
        "colab_type": "code",
        "colab": {}
      },
      "source": [
        "from math import ceil, floor\n",
        "def float_round(num, places = 0, direction = floor):\n",
        "    return direction(num * (10**places)) / float(10**places)\n",
        "\n",
        "def xox(x_id, imax = revamped_df['Viewers_ID'].max()):\n",
        "  return [float_round(((xx / imax) * 10), 3, round) for xx in [x_id]]\n",
        "   \n",
        "revamped_df['Viewers_ID'] = revamped_df['Viewers_ID'].apply(xox)\n",
        "\n",
        "def xox_2(x_id, imax = test_df['Viewers_ID'].max()):\n",
        "  return [float_round(((xx / imax) * 10), 3, round) for xx in [x_id]]\n",
        "   \n",
        "test_df['Viewers_ID'] = test_df['Viewers_ID'].apply(xox_2)\n"
      ],
      "execution_count": 0,
      "outputs": []
    },
    {
      "cell_type": "code",
      "metadata": {
        "id": "G6_Mx5DZWSzK",
        "colab_type": "code",
        "outputId": "2b4e5d5e-81ea-4dea-8921-11df64446023",
        "colab": {
          "base_uri": "https://localhost:8080/",
          "height": 206
        }
      },
      "source": [
        "revamped_df['Viewers_ID'] = revamped_df['Viewers_ID'].str[0]\n",
        "revamped_df['Viewers_ID'] = pd.to_numeric(revamped_df['Viewers_ID'], errors='coerce')\n",
        "\n",
        "test_df['Viewers_ID'] = test_df['Viewers_ID'].str[0]\n",
        "test_df['Viewers_ID'] = pd.to_numeric(test_df['Viewers_ID'], errors='coerce')\n",
        "test_df.tail()"
      ],
      "execution_count": 0,
      "outputs": [
        {
          "output_type": "execute_result",
          "data": {
            "text/html": [
              "<div>\n",
              "<style scoped>\n",
              "    .dataframe tbody tr th:only-of-type {\n",
              "        vertical-align: middle;\n",
              "    }\n",
              "\n",
              "    .dataframe tbody tr th {\n",
              "        vertical-align: top;\n",
              "    }\n",
              "\n",
              "    .dataframe thead th {\n",
              "        text-align: right;\n",
              "    }\n",
              "</style>\n",
              "<table border=\"1\" class=\"dataframe\">\n",
              "  <thead>\n",
              "    <tr style=\"text-align: right;\">\n",
              "      <th></th>\n",
              "      <th>Viewers_ID</th>\n",
              "      <th>Comedian</th>\n",
              "      <th>Location</th>\n",
              "      <th>Volume</th>\n",
              "      <th>Viewers_expertise</th>\n",
              "    </tr>\n",
              "  </thead>\n",
              "  <tbody>\n",
              "    <tr>\n",
              "      <th>435868</th>\n",
              "      <td>2.447</td>\n",
              "      <td>13</td>\n",
              "      <td>3</td>\n",
              "      <td>1</td>\n",
              "      <td>1</td>\n",
              "    </tr>\n",
              "    <tr>\n",
              "      <th>435869</th>\n",
              "      <td>2.447</td>\n",
              "      <td>12</td>\n",
              "      <td>3</td>\n",
              "      <td>2</td>\n",
              "      <td>1</td>\n",
              "    </tr>\n",
              "    <tr>\n",
              "      <th>435870</th>\n",
              "      <td>2.447</td>\n",
              "      <td>12</td>\n",
              "      <td>6</td>\n",
              "      <td>3</td>\n",
              "      <td>1</td>\n",
              "    </tr>\n",
              "    <tr>\n",
              "      <th>435871</th>\n",
              "      <td>2.447</td>\n",
              "      <td>11</td>\n",
              "      <td>3</td>\n",
              "      <td>1</td>\n",
              "      <td>1</td>\n",
              "    </tr>\n",
              "    <tr>\n",
              "      <th>435872</th>\n",
              "      <td>2.447</td>\n",
              "      <td>11</td>\n",
              "      <td>3</td>\n",
              "      <td>4</td>\n",
              "      <td>1</td>\n",
              "    </tr>\n",
              "  </tbody>\n",
              "</table>\n",
              "</div>"
            ],
            "text/plain": [
              "        Viewers_ID  Comedian  Location Volume  Viewers_expertise\n",
              "435868       2.447        13         3      1                  1\n",
              "435869       2.447        12         3      2                  1\n",
              "435870       2.447        12         6      3                  1\n",
              "435871       2.447        11         3      1                  1\n",
              "435872       2.447        11         3      4                  1"
            ]
          },
          "metadata": {
            "tags": []
          },
          "execution_count": 25
        }
      ]
    },
    {
      "cell_type": "code",
      "metadata": {
        "id": "ALto-9pzNy8h",
        "colab_type": "code",
        "outputId": "6a9eb746-0b85-46f2-8b0d-6b615663d209",
        "colab": {
          "base_uri": "https://localhost:8080/",
          "height": 206
        }
      },
      "source": [
        "#Test Data\n",
        "pre_final_test = test_df\n",
        "\n",
        "final_test = pre_final_test.apply(pd.to_numeric, errors='coerce')\n",
        "\n",
        "final_test.head()"
      ],
      "execution_count": 0,
      "outputs": [
        {
          "output_type": "execute_result",
          "data": {
            "text/html": [
              "<div>\n",
              "<style scoped>\n",
              "    .dataframe tbody tr th:only-of-type {\n",
              "        vertical-align: middle;\n",
              "    }\n",
              "\n",
              "    .dataframe tbody tr th {\n",
              "        vertical-align: top;\n",
              "    }\n",
              "\n",
              "    .dataframe thead th {\n",
              "        text-align: right;\n",
              "    }\n",
              "</style>\n",
              "<table border=\"1\" class=\"dataframe\">\n",
              "  <thead>\n",
              "    <tr style=\"text-align: right;\">\n",
              "      <th></th>\n",
              "      <th>Viewers_ID</th>\n",
              "      <th>Comedian</th>\n",
              "      <th>Location</th>\n",
              "      <th>Volume</th>\n",
              "      <th>Viewers_expertise</th>\n",
              "    </tr>\n",
              "  </thead>\n",
              "  <tbody>\n",
              "    <tr>\n",
              "      <th>0</th>\n",
              "      <td>0.0</td>\n",
              "      <td>6</td>\n",
              "      <td>3</td>\n",
              "      <td>1</td>\n",
              "      <td>2</td>\n",
              "    </tr>\n",
              "    <tr>\n",
              "      <th>1</th>\n",
              "      <td>0.0</td>\n",
              "      <td>6</td>\n",
              "      <td>6</td>\n",
              "      <td>1</td>\n",
              "      <td>2</td>\n",
              "    </tr>\n",
              "    <tr>\n",
              "      <th>2</th>\n",
              "      <td>0.0</td>\n",
              "      <td>6</td>\n",
              "      <td>6</td>\n",
              "      <td>5</td>\n",
              "      <td>2</td>\n",
              "    </tr>\n",
              "    <tr>\n",
              "      <th>3</th>\n",
              "      <td>0.0</td>\n",
              "      <td>7</td>\n",
              "      <td>8</td>\n",
              "      <td>1</td>\n",
              "      <td>2</td>\n",
              "    </tr>\n",
              "    <tr>\n",
              "      <th>4</th>\n",
              "      <td>0.0</td>\n",
              "      <td>7</td>\n",
              "      <td>8</td>\n",
              "      <td>3</td>\n",
              "      <td>2</td>\n",
              "    </tr>\n",
              "  </tbody>\n",
              "</table>\n",
              "</div>"
            ],
            "text/plain": [
              "   Viewers_ID  Comedian  Location  Volume  Viewers_expertise\n",
              "0         0.0         6         3       1                  2\n",
              "1         0.0         6         6       1                  2\n",
              "2         0.0         6         6       5                  2\n",
              "3         0.0         7         8       1                  2\n",
              "4         0.0         7         8       3                  2"
            ]
          },
          "metadata": {
            "tags": []
          },
          "execution_count": 26
        }
      ]
    },
    {
      "cell_type": "code",
      "metadata": {
        "id": "6fOahzUffMYu",
        "colab_type": "code",
        "outputId": "5bd7932d-40c2-48c2-f9ff-83aafc41f901",
        "colab": {
          "base_uri": "https://localhost:8080/",
          "height": 54
        }
      },
      "source": [
        "pd.DataFrame(final_test['Viewers_ID']).dtypes"
      ],
      "execution_count": 0,
      "outputs": [
        {
          "output_type": "execute_result",
          "data": {
            "text/plain": [
              "Viewers_ID    float64\n",
              "dtype: object"
            ]
          },
          "metadata": {
            "tags": []
          },
          "execution_count": 27
        }
      ]
    },
    {
      "cell_type": "code",
      "metadata": {
        "id": "OhvSOziNWbTX",
        "colab_type": "code",
        "outputId": "ccd7c5a9-7fa6-432f-f9d5-a201eb8f4f71",
        "colab": {
          "base_uri": "https://localhost:8080/",
          "height": 145
        }
      },
      "source": [
        "revamped_df['Volume'] = pd.to_numeric(revamped_df['Volume'], errors='coerce')\n",
        "revamped_df.dtypes"
      ],
      "execution_count": 0,
      "outputs": [
        {
          "output_type": "execute_result",
          "data": {
            "text/plain": [
              "Viewers_ID           float64\n",
              "Rating               float64\n",
              "Comedian               int64\n",
              "Location               int64\n",
              "Volume                 int64\n",
              "Viewers_expertise      int64\n",
              "dtype: object"
            ]
          },
          "metadata": {
            "tags": []
          },
          "execution_count": 28
        }
      ]
    },
    {
      "cell_type": "code",
      "metadata": {
        "id": "PwYfX_OAN7bc",
        "colab_type": "code",
        "outputId": "3d163b1e-8090-4ffd-8c82-ea55189d6ef2",
        "colab": {
          "base_uri": "https://localhost:8080/",
          "height": 54
        }
      },
      "source": [
        "pre_train_x = revamped_df.drop(['Rating'], axis = 1)\n",
        "\n",
        "train_x = pre_train_x.apply(pd.to_numeric, errors='coerce')\n",
        "train_y = revamped_df['Rating'].values.astype(float)\n",
        "\n",
        "\n",
        "pd.DataFrame(train_y).isnull().any()"
      ],
      "execution_count": 0,
      "outputs": [
        {
          "output_type": "execute_result",
          "data": {
            "text/plain": [
              "0    False\n",
              "dtype: bool"
            ]
          },
          "metadata": {
            "tags": []
          },
          "execution_count": 29
        }
      ]
    },
    {
      "cell_type": "code",
      "metadata": {
        "id": "bPt0rSVJFRAm",
        "colab_type": "code",
        "outputId": "3417026b-7944-4273-f2ab-b107ecd88064",
        "colab": {
          "base_uri": "https://localhost:8080/",
          "height": 226
        }
      },
      "source": [
        "#ONE HOT ENCODING\n",
        "#---------------------\n",
        "# use pandas get_dummies function to generate one hot encoding for each feature\n",
        "# append the new feature to the existing set\n",
        "\n",
        "#TRAINING DATA\n",
        "ComedyClass   = pd.get_dummies(train_x['Comedian'], prefix='Comedian')\n",
        "train_x       = pd.concat([train_x, ComedyClass], axis=1)\n",
        "train_x       = train_x.drop(['Comedian'],axis=1)\n",
        "\n",
        "LocationClass = pd.get_dummies(train_x['Location'], prefix='Location')\n",
        "train_x       = pd.concat([train_x, LocationClass], axis=1)\n",
        "train_x       = train_x.drop(['Location'],axis=1)\n",
        "\n",
        "VolumeClass   = pd.get_dummies(train_x['Volume'], prefix='Volume')\n",
        "train_x       = pd.concat([train_x, VolumeClass], axis=1)\n",
        "train_x       = train_x.drop(['Volume'],axis=1)\n",
        "\n",
        "Viewers_expert = pd.get_dummies(train_x['Viewers_expertise'], prefix='Viewers_expertise')\n",
        "train_x        = pd.concat([train_x, Viewers_expert], axis=1)\n",
        "train_x        = train_x.drop(['Viewers_expertise'],axis=1)\n",
        "\n",
        "train_x.head()"
      ],
      "execution_count": 0,
      "outputs": [
        {
          "output_type": "execute_result",
          "data": {
            "text/html": [
              "<div>\n",
              "<style scoped>\n",
              "    .dataframe tbody tr th:only-of-type {\n",
              "        vertical-align: middle;\n",
              "    }\n",
              "\n",
              "    .dataframe tbody tr th {\n",
              "        vertical-align: top;\n",
              "    }\n",
              "\n",
              "    .dataframe thead th {\n",
              "        text-align: right;\n",
              "    }\n",
              "</style>\n",
              "<table border=\"1\" class=\"dataframe\">\n",
              "  <thead>\n",
              "    <tr style=\"text-align: right;\">\n",
              "      <th></th>\n",
              "      <th>Viewers_ID</th>\n",
              "      <th>Comedian_1</th>\n",
              "      <th>Comedian_2</th>\n",
              "      <th>Comedian_3</th>\n",
              "      <th>Comedian_4</th>\n",
              "      <th>Comedian_5</th>\n",
              "      <th>Comedian_6</th>\n",
              "      <th>Comedian_7</th>\n",
              "      <th>Comedian_8</th>\n",
              "      <th>Comedian_9</th>\n",
              "      <th>Comedian_10</th>\n",
              "      <th>Comedian_11</th>\n",
              "      <th>Comedian_12</th>\n",
              "      <th>Comedian_13</th>\n",
              "      <th>Location_1</th>\n",
              "      <th>Location_2</th>\n",
              "      <th>Location_3</th>\n",
              "      <th>Location_4</th>\n",
              "      <th>Location_5</th>\n",
              "      <th>Location_6</th>\n",
              "      <th>Location_8</th>\n",
              "      <th>Location_9</th>\n",
              "      <th>Location_10</th>\n",
              "      <th>Volume_1</th>\n",
              "      <th>Volume_2</th>\n",
              "      <th>Volume_3</th>\n",
              "      <th>Volume_4</th>\n",
              "      <th>Volume_5</th>\n",
              "      <th>Viewers_expertise_1</th>\n",
              "      <th>Viewers_expertise_2</th>\n",
              "      <th>Viewers_expertise_3</th>\n",
              "      <th>Viewers_expertise_4</th>\n",
              "    </tr>\n",
              "  </thead>\n",
              "  <tbody>\n",
              "    <tr>\n",
              "      <th>0</th>\n",
              "      <td>0.0</td>\n",
              "      <td>1</td>\n",
              "      <td>0</td>\n",
              "      <td>0</td>\n",
              "      <td>0</td>\n",
              "      <td>0</td>\n",
              "      <td>0</td>\n",
              "      <td>0</td>\n",
              "      <td>0</td>\n",
              "      <td>0</td>\n",
              "      <td>0</td>\n",
              "      <td>0</td>\n",
              "      <td>0</td>\n",
              "      <td>0</td>\n",
              "      <td>1</td>\n",
              "      <td>0</td>\n",
              "      <td>0</td>\n",
              "      <td>0</td>\n",
              "      <td>0</td>\n",
              "      <td>0</td>\n",
              "      <td>0</td>\n",
              "      <td>0</td>\n",
              "      <td>0</td>\n",
              "      <td>1</td>\n",
              "      <td>0</td>\n",
              "      <td>0</td>\n",
              "      <td>0</td>\n",
              "      <td>0</td>\n",
              "      <td>0</td>\n",
              "      <td>0</td>\n",
              "      <td>1</td>\n",
              "      <td>0</td>\n",
              "    </tr>\n",
              "    <tr>\n",
              "      <th>1</th>\n",
              "      <td>0.0</td>\n",
              "      <td>1</td>\n",
              "      <td>0</td>\n",
              "      <td>0</td>\n",
              "      <td>0</td>\n",
              "      <td>0</td>\n",
              "      <td>0</td>\n",
              "      <td>0</td>\n",
              "      <td>0</td>\n",
              "      <td>0</td>\n",
              "      <td>0</td>\n",
              "      <td>0</td>\n",
              "      <td>0</td>\n",
              "      <td>0</td>\n",
              "      <td>1</td>\n",
              "      <td>0</td>\n",
              "      <td>0</td>\n",
              "      <td>0</td>\n",
              "      <td>0</td>\n",
              "      <td>0</td>\n",
              "      <td>0</td>\n",
              "      <td>0</td>\n",
              "      <td>0</td>\n",
              "      <td>0</td>\n",
              "      <td>1</td>\n",
              "      <td>0</td>\n",
              "      <td>0</td>\n",
              "      <td>0</td>\n",
              "      <td>0</td>\n",
              "      <td>0</td>\n",
              "      <td>1</td>\n",
              "      <td>0</td>\n",
              "    </tr>\n",
              "    <tr>\n",
              "      <th>2</th>\n",
              "      <td>0.0</td>\n",
              "      <td>1</td>\n",
              "      <td>0</td>\n",
              "      <td>0</td>\n",
              "      <td>0</td>\n",
              "      <td>0</td>\n",
              "      <td>0</td>\n",
              "      <td>0</td>\n",
              "      <td>0</td>\n",
              "      <td>0</td>\n",
              "      <td>0</td>\n",
              "      <td>0</td>\n",
              "      <td>0</td>\n",
              "      <td>0</td>\n",
              "      <td>0</td>\n",
              "      <td>1</td>\n",
              "      <td>0</td>\n",
              "      <td>0</td>\n",
              "      <td>0</td>\n",
              "      <td>0</td>\n",
              "      <td>0</td>\n",
              "      <td>0</td>\n",
              "      <td>0</td>\n",
              "      <td>1</td>\n",
              "      <td>0</td>\n",
              "      <td>0</td>\n",
              "      <td>0</td>\n",
              "      <td>0</td>\n",
              "      <td>0</td>\n",
              "      <td>0</td>\n",
              "      <td>1</td>\n",
              "      <td>0</td>\n",
              "    </tr>\n",
              "    <tr>\n",
              "      <th>3</th>\n",
              "      <td>0.0</td>\n",
              "      <td>1</td>\n",
              "      <td>0</td>\n",
              "      <td>0</td>\n",
              "      <td>0</td>\n",
              "      <td>0</td>\n",
              "      <td>0</td>\n",
              "      <td>0</td>\n",
              "      <td>0</td>\n",
              "      <td>0</td>\n",
              "      <td>0</td>\n",
              "      <td>0</td>\n",
              "      <td>0</td>\n",
              "      <td>0</td>\n",
              "      <td>0</td>\n",
              "      <td>1</td>\n",
              "      <td>0</td>\n",
              "      <td>0</td>\n",
              "      <td>0</td>\n",
              "      <td>0</td>\n",
              "      <td>0</td>\n",
              "      <td>0</td>\n",
              "      <td>0</td>\n",
              "      <td>0</td>\n",
              "      <td>1</td>\n",
              "      <td>0</td>\n",
              "      <td>0</td>\n",
              "      <td>0</td>\n",
              "      <td>0</td>\n",
              "      <td>0</td>\n",
              "      <td>1</td>\n",
              "      <td>0</td>\n",
              "    </tr>\n",
              "    <tr>\n",
              "      <th>4</th>\n",
              "      <td>0.0</td>\n",
              "      <td>1</td>\n",
              "      <td>0</td>\n",
              "      <td>0</td>\n",
              "      <td>0</td>\n",
              "      <td>0</td>\n",
              "      <td>0</td>\n",
              "      <td>0</td>\n",
              "      <td>0</td>\n",
              "      <td>0</td>\n",
              "      <td>0</td>\n",
              "      <td>0</td>\n",
              "      <td>0</td>\n",
              "      <td>0</td>\n",
              "      <td>0</td>\n",
              "      <td>0</td>\n",
              "      <td>1</td>\n",
              "      <td>0</td>\n",
              "      <td>0</td>\n",
              "      <td>0</td>\n",
              "      <td>0</td>\n",
              "      <td>0</td>\n",
              "      <td>0</td>\n",
              "      <td>1</td>\n",
              "      <td>0</td>\n",
              "      <td>0</td>\n",
              "      <td>0</td>\n",
              "      <td>0</td>\n",
              "      <td>0</td>\n",
              "      <td>0</td>\n",
              "      <td>1</td>\n",
              "      <td>0</td>\n",
              "    </tr>\n",
              "  </tbody>\n",
              "</table>\n",
              "</div>"
            ],
            "text/plain": [
              "   Viewers_ID  Comedian_1  Comedian_2  Comedian_3  Comedian_4  Comedian_5  \\\n",
              "0         0.0           1           0           0           0           0   \n",
              "1         0.0           1           0           0           0           0   \n",
              "2         0.0           1           0           0           0           0   \n",
              "3         0.0           1           0           0           0           0   \n",
              "4         0.0           1           0           0           0           0   \n",
              "\n",
              "   Comedian_6  Comedian_7  Comedian_8  Comedian_9  Comedian_10  Comedian_11  \\\n",
              "0           0           0           0           0            0            0   \n",
              "1           0           0           0           0            0            0   \n",
              "2           0           0           0           0            0            0   \n",
              "3           0           0           0           0            0            0   \n",
              "4           0           0           0           0            0            0   \n",
              "\n",
              "   Comedian_12  Comedian_13  Location_1  Location_2  Location_3  Location_4  \\\n",
              "0            0            0           1           0           0           0   \n",
              "1            0            0           1           0           0           0   \n",
              "2            0            0           0           1           0           0   \n",
              "3            0            0           0           1           0           0   \n",
              "4            0            0           0           0           1           0   \n",
              "\n",
              "   Location_5  Location_6  Location_8  Location_9  Location_10  Volume_1  \\\n",
              "0           0           0           0           0            0         1   \n",
              "1           0           0           0           0            0         0   \n",
              "2           0           0           0           0            0         1   \n",
              "3           0           0           0           0            0         0   \n",
              "4           0           0           0           0            0         1   \n",
              "\n",
              "   Volume_2  Volume_3  Volume_4  Volume_5  Viewers_expertise_1  \\\n",
              "0         0         0         0         0                    0   \n",
              "1         1         0         0         0                    0   \n",
              "2         0         0         0         0                    0   \n",
              "3         1         0         0         0                    0   \n",
              "4         0         0         0         0                    0   \n",
              "\n",
              "   Viewers_expertise_2  Viewers_expertise_3  Viewers_expertise_4  \n",
              "0                    0                    1                    0  \n",
              "1                    0                    1                    0  \n",
              "2                    0                    1                    0  \n",
              "3                    0                    1                    0  \n",
              "4                    0                    1                    0  "
            ]
          },
          "metadata": {
            "tags": []
          },
          "execution_count": 30
        }
      ]
    },
    {
      "cell_type": "code",
      "metadata": {
        "id": "xgYryXwrOD7R",
        "colab_type": "code",
        "outputId": "8e279fa6-a5ee-48c2-9042-f1288cffe4bb",
        "colab": {
          "base_uri": "https://localhost:8080/",
          "height": 226
        }
      },
      "source": [
        "#TESTING DATA\n",
        "ComedyClass_2    = pd.get_dummies(final_test['Comedian'], prefix='Comedian')\n",
        "final_test       = pd.concat([final_test, ComedyClass_2], axis=1)\n",
        "final_test       = final_test.drop(['Comedian'],axis=1)\n",
        "\n",
        "LocationClass_2  = pd.get_dummies(final_test['Location'], prefix='Location')\n",
        "final_test       = pd.concat([final_test, LocationClass_2], axis=1)\n",
        "final_test       = final_test.drop(['Location'],axis=1)\n",
        "\n",
        "VolumeClass_2    = pd.get_dummies(final_test['Volume'], prefix='Volume')\n",
        "final_test       = pd.concat([final_test, VolumeClass_2], axis=1)\n",
        "final_test       = final_test.drop(['Volume'],axis=1)\n",
        "\n",
        "Viewers_expert   = pd.get_dummies(final_test['Viewers_expertise'], prefix='Viewers_expertise')\n",
        "final_test       = pd.concat([final_test, Viewers_expert], axis=1)\n",
        "final_test       = final_test.drop(['Viewers_expertise'],axis=1)\n",
        "\n",
        "final_test.head()"
      ],
      "execution_count": 0,
      "outputs": [
        {
          "output_type": "execute_result",
          "data": {
            "text/html": [
              "<div>\n",
              "<style scoped>\n",
              "    .dataframe tbody tr th:only-of-type {\n",
              "        vertical-align: middle;\n",
              "    }\n",
              "\n",
              "    .dataframe tbody tr th {\n",
              "        vertical-align: top;\n",
              "    }\n",
              "\n",
              "    .dataframe thead th {\n",
              "        text-align: right;\n",
              "    }\n",
              "</style>\n",
              "<table border=\"1\" class=\"dataframe\">\n",
              "  <thead>\n",
              "    <tr style=\"text-align: right;\">\n",
              "      <th></th>\n",
              "      <th>Viewers_ID</th>\n",
              "      <th>Comedian_1</th>\n",
              "      <th>Comedian_2</th>\n",
              "      <th>Comedian_3</th>\n",
              "      <th>Comedian_4</th>\n",
              "      <th>Comedian_5</th>\n",
              "      <th>Comedian_6</th>\n",
              "      <th>Comedian_7</th>\n",
              "      <th>Comedian_8</th>\n",
              "      <th>Comedian_9</th>\n",
              "      <th>Comedian_10</th>\n",
              "      <th>Comedian_11</th>\n",
              "      <th>Comedian_12</th>\n",
              "      <th>Comedian_13</th>\n",
              "      <th>Location_1</th>\n",
              "      <th>Location_2</th>\n",
              "      <th>Location_3</th>\n",
              "      <th>Location_4</th>\n",
              "      <th>Location_5</th>\n",
              "      <th>Location_6</th>\n",
              "      <th>Location_8</th>\n",
              "      <th>Location_9</th>\n",
              "      <th>Location_10</th>\n",
              "      <th>Volume_1</th>\n",
              "      <th>Volume_2</th>\n",
              "      <th>Volume_3</th>\n",
              "      <th>Volume_4</th>\n",
              "      <th>Volume_5</th>\n",
              "      <th>Viewers_expertise_1</th>\n",
              "      <th>Viewers_expertise_2</th>\n",
              "      <th>Viewers_expertise_3</th>\n",
              "      <th>Viewers_expertise_4</th>\n",
              "    </tr>\n",
              "  </thead>\n",
              "  <tbody>\n",
              "    <tr>\n",
              "      <th>0</th>\n",
              "      <td>0.0</td>\n",
              "      <td>0</td>\n",
              "      <td>0</td>\n",
              "      <td>0</td>\n",
              "      <td>0</td>\n",
              "      <td>0</td>\n",
              "      <td>1</td>\n",
              "      <td>0</td>\n",
              "      <td>0</td>\n",
              "      <td>0</td>\n",
              "      <td>0</td>\n",
              "      <td>0</td>\n",
              "      <td>0</td>\n",
              "      <td>0</td>\n",
              "      <td>0</td>\n",
              "      <td>0</td>\n",
              "      <td>1</td>\n",
              "      <td>0</td>\n",
              "      <td>0</td>\n",
              "      <td>0</td>\n",
              "      <td>0</td>\n",
              "      <td>0</td>\n",
              "      <td>0</td>\n",
              "      <td>1</td>\n",
              "      <td>0</td>\n",
              "      <td>0</td>\n",
              "      <td>0</td>\n",
              "      <td>0</td>\n",
              "      <td>0</td>\n",
              "      <td>1</td>\n",
              "      <td>0</td>\n",
              "      <td>0</td>\n",
              "    </tr>\n",
              "    <tr>\n",
              "      <th>1</th>\n",
              "      <td>0.0</td>\n",
              "      <td>0</td>\n",
              "      <td>0</td>\n",
              "      <td>0</td>\n",
              "      <td>0</td>\n",
              "      <td>0</td>\n",
              "      <td>1</td>\n",
              "      <td>0</td>\n",
              "      <td>0</td>\n",
              "      <td>0</td>\n",
              "      <td>0</td>\n",
              "      <td>0</td>\n",
              "      <td>0</td>\n",
              "      <td>0</td>\n",
              "      <td>0</td>\n",
              "      <td>0</td>\n",
              "      <td>0</td>\n",
              "      <td>0</td>\n",
              "      <td>0</td>\n",
              "      <td>1</td>\n",
              "      <td>0</td>\n",
              "      <td>0</td>\n",
              "      <td>0</td>\n",
              "      <td>1</td>\n",
              "      <td>0</td>\n",
              "      <td>0</td>\n",
              "      <td>0</td>\n",
              "      <td>0</td>\n",
              "      <td>0</td>\n",
              "      <td>1</td>\n",
              "      <td>0</td>\n",
              "      <td>0</td>\n",
              "    </tr>\n",
              "    <tr>\n",
              "      <th>2</th>\n",
              "      <td>0.0</td>\n",
              "      <td>0</td>\n",
              "      <td>0</td>\n",
              "      <td>0</td>\n",
              "      <td>0</td>\n",
              "      <td>0</td>\n",
              "      <td>1</td>\n",
              "      <td>0</td>\n",
              "      <td>0</td>\n",
              "      <td>0</td>\n",
              "      <td>0</td>\n",
              "      <td>0</td>\n",
              "      <td>0</td>\n",
              "      <td>0</td>\n",
              "      <td>0</td>\n",
              "      <td>0</td>\n",
              "      <td>0</td>\n",
              "      <td>0</td>\n",
              "      <td>0</td>\n",
              "      <td>1</td>\n",
              "      <td>0</td>\n",
              "      <td>0</td>\n",
              "      <td>0</td>\n",
              "      <td>0</td>\n",
              "      <td>0</td>\n",
              "      <td>0</td>\n",
              "      <td>0</td>\n",
              "      <td>1</td>\n",
              "      <td>0</td>\n",
              "      <td>1</td>\n",
              "      <td>0</td>\n",
              "      <td>0</td>\n",
              "    </tr>\n",
              "    <tr>\n",
              "      <th>3</th>\n",
              "      <td>0.0</td>\n",
              "      <td>0</td>\n",
              "      <td>0</td>\n",
              "      <td>0</td>\n",
              "      <td>0</td>\n",
              "      <td>0</td>\n",
              "      <td>0</td>\n",
              "      <td>1</td>\n",
              "      <td>0</td>\n",
              "      <td>0</td>\n",
              "      <td>0</td>\n",
              "      <td>0</td>\n",
              "      <td>0</td>\n",
              "      <td>0</td>\n",
              "      <td>0</td>\n",
              "      <td>0</td>\n",
              "      <td>0</td>\n",
              "      <td>0</td>\n",
              "      <td>0</td>\n",
              "      <td>0</td>\n",
              "      <td>1</td>\n",
              "      <td>0</td>\n",
              "      <td>0</td>\n",
              "      <td>1</td>\n",
              "      <td>0</td>\n",
              "      <td>0</td>\n",
              "      <td>0</td>\n",
              "      <td>0</td>\n",
              "      <td>0</td>\n",
              "      <td>1</td>\n",
              "      <td>0</td>\n",
              "      <td>0</td>\n",
              "    </tr>\n",
              "    <tr>\n",
              "      <th>4</th>\n",
              "      <td>0.0</td>\n",
              "      <td>0</td>\n",
              "      <td>0</td>\n",
              "      <td>0</td>\n",
              "      <td>0</td>\n",
              "      <td>0</td>\n",
              "      <td>0</td>\n",
              "      <td>1</td>\n",
              "      <td>0</td>\n",
              "      <td>0</td>\n",
              "      <td>0</td>\n",
              "      <td>0</td>\n",
              "      <td>0</td>\n",
              "      <td>0</td>\n",
              "      <td>0</td>\n",
              "      <td>0</td>\n",
              "      <td>0</td>\n",
              "      <td>0</td>\n",
              "      <td>0</td>\n",
              "      <td>0</td>\n",
              "      <td>1</td>\n",
              "      <td>0</td>\n",
              "      <td>0</td>\n",
              "      <td>0</td>\n",
              "      <td>0</td>\n",
              "      <td>1</td>\n",
              "      <td>0</td>\n",
              "      <td>0</td>\n",
              "      <td>0</td>\n",
              "      <td>1</td>\n",
              "      <td>0</td>\n",
              "      <td>0</td>\n",
              "    </tr>\n",
              "  </tbody>\n",
              "</table>\n",
              "</div>"
            ],
            "text/plain": [
              "   Viewers_ID  Comedian_1  Comedian_2  Comedian_3  Comedian_4  Comedian_5  \\\n",
              "0         0.0           0           0           0           0           0   \n",
              "1         0.0           0           0           0           0           0   \n",
              "2         0.0           0           0           0           0           0   \n",
              "3         0.0           0           0           0           0           0   \n",
              "4         0.0           0           0           0           0           0   \n",
              "\n",
              "   Comedian_6  Comedian_7  Comedian_8  Comedian_9  Comedian_10  Comedian_11  \\\n",
              "0           1           0           0           0            0            0   \n",
              "1           1           0           0           0            0            0   \n",
              "2           1           0           0           0            0            0   \n",
              "3           0           1           0           0            0            0   \n",
              "4           0           1           0           0            0            0   \n",
              "\n",
              "   Comedian_12  Comedian_13  Location_1  Location_2  Location_3  Location_4  \\\n",
              "0            0            0           0           0           1           0   \n",
              "1            0            0           0           0           0           0   \n",
              "2            0            0           0           0           0           0   \n",
              "3            0            0           0           0           0           0   \n",
              "4            0            0           0           0           0           0   \n",
              "\n",
              "   Location_5  Location_6  Location_8  Location_9  Location_10  Volume_1  \\\n",
              "0           0           0           0           0            0         1   \n",
              "1           0           1           0           0            0         1   \n",
              "2           0           1           0           0            0         0   \n",
              "3           0           0           1           0            0         1   \n",
              "4           0           0           1           0            0         0   \n",
              "\n",
              "   Volume_2  Volume_3  Volume_4  Volume_5  Viewers_expertise_1  \\\n",
              "0         0         0         0         0                    0   \n",
              "1         0         0         0         0                    0   \n",
              "2         0         0         0         1                    0   \n",
              "3         0         0         0         0                    0   \n",
              "4         0         1         0         0                    0   \n",
              "\n",
              "   Viewers_expertise_2  Viewers_expertise_3  Viewers_expertise_4  \n",
              "0                    1                    0                    0  \n",
              "1                    1                    0                    0  \n",
              "2                    1                    0                    0  \n",
              "3                    1                    0                    0  \n",
              "4                    1                    0                    0  "
            ]
          },
          "metadata": {
            "tags": []
          },
          "execution_count": 31
        }
      ]
    },
    {
      "cell_type": "code",
      "metadata": {
        "id": "fbcYZeWShRft",
        "colab_type": "code",
        "outputId": "852d53c0-0f19-445c-b02f-e66302da4889",
        "colab": {
          "base_uri": "https://localhost:8080/",
          "height": 35
        }
      },
      "source": [
        "train_y"
      ],
      "execution_count": 0,
      "outputs": [
        {
          "output_type": "execute_result",
          "data": {
            "text/plain": [
              "array([ 0.11, -4.64, -3.39, ...,  1.03,  1.22,  1.28])"
            ]
          },
          "metadata": {
            "tags": []
          },
          "execution_count": 32
        }
      ]
    },
    {
      "cell_type": "code",
      "metadata": {
        "id": "hOcjR364OHIn",
        "colab_type": "code",
        "colab": {}
      },
      "source": [
        "# lab_enc = preprocessing.LabelEncoder()\n",
        "# train_y_2 = lab_enc.fit_transform(train_y)\n",
        "\n",
        "x_train, x_test, y_train, y_test = train_test_split(train_x,train_y, test_size=0.3, random_state=42)"
      ],
      "execution_count": 0,
      "outputs": []
    },
    {
      "cell_type": "code",
      "metadata": {
        "id": "Oo24xj7dOOzO",
        "colab_type": "code",
        "outputId": "27e19e86-3033-4017-ee44-d8abfed14fa1",
        "colab": {
          "base_uri": "https://localhost:8080/",
          "height": 54
        }
      },
      "source": [
        "clf = LinearRegression()\n",
        "clf.fit(x_train, y_train)\n",
        "print(\"LinearRegression\")\n",
        "LiR_pred = clf.predict(x_test)\n",
        "LiR_rms = sqrt(mean_squared_error(y_test, LiR_pred))\n",
        "LiR_rms"
      ],
      "execution_count": 0,
      "outputs": [
        {
          "output_type": "stream",
          "text": [
            "LinearRegression\n"
          ],
          "name": "stdout"
        },
        {
          "output_type": "execute_result",
          "data": {
            "text/plain": [
              "2.5609932971718194"
            ]
          },
          "metadata": {
            "tags": []
          },
          "execution_count": 34
        }
      ]
    },
    {
      "cell_type": "code",
      "metadata": {
        "id": "jlvSvUlr7WcT",
        "colab_type": "code",
        "colab": {}
      },
      "source": [
        "from xgboost import XGBRegressor"
      ],
      "execution_count": 0,
      "outputs": []
    },
    {
      "cell_type": "code",
      "metadata": {
        "id": "9F3a3f2t8bbT",
        "colab_type": "code",
        "colab": {}
      },
      "source": [
        "my_model = XGBRegressor(\n",
        "                 colsample_bytree=0.9,\n",
        "                 gamma=0.0,\n",
        "                 learning_rate=0.33,\n",
        "                 max_depth=6,\n",
        "                 min_child_weight=1.5,\n",
        "                 n_estimators=7200,                                                                  \n",
        "                 reg_alpha=0.9,\n",
        "                 reg_lambda=0.6,\n",
        "                 subsample=0.2,                 seed=42,\n",
        "                 silent=1)\n",
        "# my_model = XGBRegressor(n_estimators=100, learning_rate=0.08, gamma=0, subsample=0.75,colsample_bytree=1, max_depth=7)\n",
        "\n",
        "my_model.fit(x_train, y_train, early_stopping_rounds=30, eval_set=[(x_test, y_test)], verbose=False)\n",
        "\n",
        "predictions = my_model.predict(x_test)"
      ],
      "execution_count": 0,
      "outputs": []
    },
    {
      "cell_type": "code",
      "metadata": {
        "id": "BdvPjI-c83r1",
        "colab_type": "code",
        "outputId": "e42bac97-1826-4493-83e3-4968d1c70126",
        "colab": {
          "base_uri": "https://localhost:8080/",
          "height": 35
        }
      },
      "source": [
        "XGB_rms = sqrt(mean_squared_error(y_test, predictions))\n",
        "XGB_rms"
      ],
      "execution_count": 0,
      "outputs": [
        {
          "output_type": "execute_result",
          "data": {
            "text/plain": [
              "2.4658918630353073"
            ]
          },
          "metadata": {
            "tags": []
          },
          "execution_count": 38
        }
      ]
    },
    {
      "cell_type": "code",
      "metadata": {
        "id": "DUfmjkiyHgT8",
        "colab_type": "code",
        "colab": {}
      },
      "source": [
        "result = my_model.predict(final_test)"
      ],
      "execution_count": 0,
      "outputs": []
    },
    {
      "cell_type": "code",
      "metadata": {
        "id": "ZV23TkwmShUr",
        "colab_type": "code",
        "colab": {}
      },
      "source": [
        "import pickle"
      ],
      "execution_count": 0,
      "outputs": []
    },
    {
      "cell_type": "code",
      "metadata": {
        "id": "NLPIVlAWPPef",
        "colab_type": "code",
        "colab": {}
      },
      "source": [
        "filename = 'finalized_model_2_4024.sav'\n",
        "pickle.dump(my_model, open(filename, 'wb'))"
      ],
      "execution_count": 0,
      "outputs": []
    },
    {
      "cell_type": "code",
      "metadata": {
        "id": "ZhyrO8_wPdxX",
        "colab_type": "code",
        "colab": {}
      },
      "source": [
        "# load the model from disk\n",
        "# loaded_model = pickle.load(open(filename, 'rb'))\n",
        "# result = loaded_model.score(X_test, Y_test)\n",
        "# print(result)"
      ],
      "execution_count": 0,
      "outputs": []
    },
    {
      "cell_type": "code",
      "metadata": {
        "id": "PYEdM8tSPiWV",
        "colab_type": "code",
        "outputId": "690ab9da-0649-494c-b38b-c101b63a638a",
        "colab": {
          "base_uri": "https://localhost:8080/",
          "height": 206
        }
      },
      "source": [
        "submit.head()"
      ],
      "execution_count": 0,
      "outputs": [
        {
          "output_type": "execute_result",
          "data": {
            "text/html": [
              "<div>\n",
              "<style scoped>\n",
              "    .dataframe tbody tr th:only-of-type {\n",
              "        vertical-align: middle;\n",
              "    }\n",
              "\n",
              "    .dataframe tbody tr th {\n",
              "        vertical-align: top;\n",
              "    }\n",
              "\n",
              "    .dataframe thead th {\n",
              "        text-align: right;\n",
              "    }\n",
              "</style>\n",
              "<table border=\"1\" class=\"dataframe\">\n",
              "  <thead>\n",
              "    <tr style=\"text-align: right;\">\n",
              "      <th></th>\n",
              "      <th>Response_ID</th>\n",
              "      <th>Rating</th>\n",
              "    </tr>\n",
              "  </thead>\n",
              "  <tbody>\n",
              "    <tr>\n",
              "      <th>0</th>\n",
              "      <td>A1_Akpororo Lagos 1</td>\n",
              "      <td>1.0</td>\n",
              "    </tr>\n",
              "    <tr>\n",
              "      <th>1</th>\n",
              "      <td>A1_Akpororo Abuja 1</td>\n",
              "      <td>1.0</td>\n",
              "    </tr>\n",
              "    <tr>\n",
              "      <th>2</th>\n",
              "      <td>A1_Akpororo Abuja 5</td>\n",
              "      <td>1.0</td>\n",
              "    </tr>\n",
              "    <tr>\n",
              "      <th>3</th>\n",
              "      <td>A1_I Go Dye Benin 1</td>\n",
              "      <td>1.0</td>\n",
              "    </tr>\n",
              "    <tr>\n",
              "      <th>4</th>\n",
              "      <td>A1_I Go Dye Benin 3</td>\n",
              "      <td>1.0</td>\n",
              "    </tr>\n",
              "  </tbody>\n",
              "</table>\n",
              "</div>"
            ],
            "text/plain": [
              "           Response_ID  Rating\n",
              "0  A1_Akpororo Lagos 1     1.0\n",
              "1  A1_Akpororo Abuja 1     1.0\n",
              "2  A1_Akpororo Abuja 5     1.0\n",
              "3  A1_I Go Dye Benin 1     1.0\n",
              "4  A1_I Go Dye Benin 3     1.0"
            ]
          },
          "metadata": {
            "tags": []
          },
          "execution_count": 81
        }
      ]
    },
    {
      "cell_type": "code",
      "metadata": {
        "id": "AxvMzGQDQbr5",
        "colab_type": "code",
        "outputId": "34f37854-a244-479b-8a24-3285d84a49a4",
        "colab": {
          "base_uri": "https://localhost:8080/",
          "height": 1992
        }
      },
      "source": [
        "submission = pd.DataFrame({\n",
        "        \"Response_ID\": submit[\"Response_ID\"],\n",
        "        \"Rating\": result\n",
        "    })\n",
        "submission"
      ],
      "execution_count": 0,
      "outputs": [
        {
          "output_type": "execute_result",
          "data": {
            "text/html": [
              "<div>\n",
              "<style scoped>\n",
              "    .dataframe tbody tr th:only-of-type {\n",
              "        vertical-align: middle;\n",
              "    }\n",
              "\n",
              "    .dataframe tbody tr th {\n",
              "        vertical-align: top;\n",
              "    }\n",
              "\n",
              "    .dataframe thead th {\n",
              "        text-align: right;\n",
              "    }\n",
              "</style>\n",
              "<table border=\"1\" class=\"dataframe\">\n",
              "  <thead>\n",
              "    <tr style=\"text-align: right;\">\n",
              "      <th></th>\n",
              "      <th>Rating</th>\n",
              "      <th>Response_ID</th>\n",
              "    </tr>\n",
              "  </thead>\n",
              "  <tbody>\n",
              "    <tr>\n",
              "      <th>0</th>\n",
              "      <td>3.579359</td>\n",
              "      <td>A1_Akpororo Lagos 1</td>\n",
              "    </tr>\n",
              "    <tr>\n",
              "      <th>1</th>\n",
              "      <td>5.710098</td>\n",
              "      <td>A1_Akpororo Abuja 1</td>\n",
              "    </tr>\n",
              "    <tr>\n",
              "      <th>2</th>\n",
              "      <td>4.853787</td>\n",
              "      <td>A1_Akpororo Abuja 5</td>\n",
              "    </tr>\n",
              "    <tr>\n",
              "      <th>3</th>\n",
              "      <td>4.860869</td>\n",
              "      <td>A1_I Go Dye Benin 1</td>\n",
              "    </tr>\n",
              "    <tr>\n",
              "      <th>4</th>\n",
              "      <td>2.851663</td>\n",
              "      <td>A1_I Go Dye Benin 3</td>\n",
              "    </tr>\n",
              "    <tr>\n",
              "      <th>5</th>\n",
              "      <td>4.346045</td>\n",
              "      <td>A1_I Go Dye Uyo 1</td>\n",
              "    </tr>\n",
              "    <tr>\n",
              "      <th>6</th>\n",
              "      <td>4.325154</td>\n",
              "      <td>A1_I Go Dye Uyo 2</td>\n",
              "    </tr>\n",
              "    <tr>\n",
              "      <th>7</th>\n",
              "      <td>2.792288</td>\n",
              "      <td>A1_Seyi Law Abuja 3</td>\n",
              "    </tr>\n",
              "    <tr>\n",
              "      <th>8</th>\n",
              "      <td>3.796023</td>\n",
              "      <td>A1_Seyi Law Abuja 4</td>\n",
              "    </tr>\n",
              "    <tr>\n",
              "      <th>9</th>\n",
              "      <td>3.763130</td>\n",
              "      <td>A1_Gordons Lagos 2</td>\n",
              "    </tr>\n",
              "    <tr>\n",
              "      <th>10</th>\n",
              "      <td>2.092339</td>\n",
              "      <td>A1_Gordons Lagos 4</td>\n",
              "    </tr>\n",
              "    <tr>\n",
              "      <th>11</th>\n",
              "      <td>2.931662</td>\n",
              "      <td>A1_Gordons Abuja 2</td>\n",
              "    </tr>\n",
              "    <tr>\n",
              "      <th>12</th>\n",
              "      <td>4.660452</td>\n",
              "      <td>A1_Helen Paul Abuja 3</td>\n",
              "    </tr>\n",
              "    <tr>\n",
              "      <th>13</th>\n",
              "      <td>6.503145</td>\n",
              "      <td>A1_Helen Paul Abuja 5</td>\n",
              "    </tr>\n",
              "    <tr>\n",
              "      <th>14</th>\n",
              "      <td>3.878105</td>\n",
              "      <td>A1_Saka Ibadan 3</td>\n",
              "    </tr>\n",
              "    <tr>\n",
              "      <th>15</th>\n",
              "      <td>4.307155</td>\n",
              "      <td>A1_Saka Ibadan 4</td>\n",
              "    </tr>\n",
              "    <tr>\n",
              "      <th>16</th>\n",
              "      <td>5.554295</td>\n",
              "      <td>A10_BasketMouth Lagos 1</td>\n",
              "    </tr>\n",
              "    <tr>\n",
              "      <th>17</th>\n",
              "      <td>3.074627</td>\n",
              "      <td>A10_AY Abuja 1</td>\n",
              "    </tr>\n",
              "    <tr>\n",
              "      <th>18</th>\n",
              "      <td>2.180028</td>\n",
              "      <td>A10_Bovi Abuja 4</td>\n",
              "    </tr>\n",
              "    <tr>\n",
              "      <th>19</th>\n",
              "      <td>0.799651</td>\n",
              "      <td>A10_Akpororo Lagos 3</td>\n",
              "    </tr>\n",
              "    <tr>\n",
              "      <th>20</th>\n",
              "      <td>1.992081</td>\n",
              "      <td>A10_Akpororo Lagos 4</td>\n",
              "    </tr>\n",
              "    <tr>\n",
              "      <th>21</th>\n",
              "      <td>2.332943</td>\n",
              "      <td>A10_I Go Dye Benin 1</td>\n",
              "    </tr>\n",
              "    <tr>\n",
              "      <th>22</th>\n",
              "      <td>1.192258</td>\n",
              "      <td>A100_I Go Dye Lagos 4</td>\n",
              "    </tr>\n",
              "    <tr>\n",
              "      <th>23</th>\n",
              "      <td>-0.727176</td>\n",
              "      <td>A100_I Go Dye Abuja 1</td>\n",
              "    </tr>\n",
              "    <tr>\n",
              "      <th>24</th>\n",
              "      <td>0.966436</td>\n",
              "      <td>A100_I Go Dye Abuja 2</td>\n",
              "    </tr>\n",
              "    <tr>\n",
              "      <th>25</th>\n",
              "      <td>0.741457</td>\n",
              "      <td>A100_I Go Dye Abuja 3</td>\n",
              "    </tr>\n",
              "    <tr>\n",
              "      <th>26</th>\n",
              "      <td>1.114333</td>\n",
              "      <td>A100_I Go Dye Abuja 4</td>\n",
              "    </tr>\n",
              "    <tr>\n",
              "      <th>27</th>\n",
              "      <td>0.701201</td>\n",
              "      <td>A100_I Go Dye Benin 1</td>\n",
              "    </tr>\n",
              "    <tr>\n",
              "      <th>28</th>\n",
              "      <td>0.463740</td>\n",
              "      <td>A100_I Go Dye Uyo 1</td>\n",
              "    </tr>\n",
              "    <tr>\n",
              "      <th>29</th>\n",
              "      <td>0.986673</td>\n",
              "      <td>A100_I Go Dye Uyo 2</td>\n",
              "    </tr>\n",
              "    <tr>\n",
              "      <th>...</th>\n",
              "      <td>...</td>\n",
              "      <td>...</td>\n",
              "    </tr>\n",
              "    <tr>\n",
              "      <th>435843</th>\n",
              "      <td>1.055774</td>\n",
              "      <td>A9995_Saka Lagos 1</td>\n",
              "    </tr>\n",
              "    <tr>\n",
              "      <th>435844</th>\n",
              "      <td>-0.029367</td>\n",
              "      <td>A9995_Funny Bone Abuja 1</td>\n",
              "    </tr>\n",
              "    <tr>\n",
              "      <th>435845</th>\n",
              "      <td>-1.194038</td>\n",
              "      <td>A9995_Okey Bakassi Abuja 5</td>\n",
              "    </tr>\n",
              "    <tr>\n",
              "      <th>435846</th>\n",
              "      <td>-0.334914</td>\n",
              "      <td>A9996_I Go Dye Uyo 1</td>\n",
              "    </tr>\n",
              "    <tr>\n",
              "      <th>435847</th>\n",
              "      <td>0.581232</td>\n",
              "      <td>A9996_Okey Bakassi Lagos 3</td>\n",
              "    </tr>\n",
              "    <tr>\n",
              "      <th>435848</th>\n",
              "      <td>-0.215389</td>\n",
              "      <td>A9996_Okey Bakassi Abuja 4</td>\n",
              "    </tr>\n",
              "    <tr>\n",
              "      <th>435849</th>\n",
              "      <td>1.676607</td>\n",
              "      <td>A9997_Helen Paul Lagos 3</td>\n",
              "    </tr>\n",
              "    <tr>\n",
              "      <th>435850</th>\n",
              "      <td>1.925299</td>\n",
              "      <td>A9997_Helen Paul Abuja 2</td>\n",
              "    </tr>\n",
              "    <tr>\n",
              "      <th>435851</th>\n",
              "      <td>1.505697</td>\n",
              "      <td>A9997_Helen Paul Abuja 4</td>\n",
              "    </tr>\n",
              "    <tr>\n",
              "      <th>435852</th>\n",
              "      <td>1.488672</td>\n",
              "      <td>A9997_Helen Paul Abuja 5</td>\n",
              "    </tr>\n",
              "    <tr>\n",
              "      <th>435853</th>\n",
              "      <td>2.257434</td>\n",
              "      <td>A9997_Saka Ibadan 1</td>\n",
              "    </tr>\n",
              "    <tr>\n",
              "      <th>435854</th>\n",
              "      <td>1.175292</td>\n",
              "      <td>A9997_Saka Ibadan 3</td>\n",
              "    </tr>\n",
              "    <tr>\n",
              "      <th>435855</th>\n",
              "      <td>0.217097</td>\n",
              "      <td>A9997_Funny Bone Lagos 2</td>\n",
              "    </tr>\n",
              "    <tr>\n",
              "      <th>435856</th>\n",
              "      <td>0.380315</td>\n",
              "      <td>A9997_Okey Bakassi Lagos 4</td>\n",
              "    </tr>\n",
              "    <tr>\n",
              "      <th>435857</th>\n",
              "      <td>-0.067665</td>\n",
              "      <td>A9997_Okey Bakassi Abuja 4</td>\n",
              "    </tr>\n",
              "    <tr>\n",
              "      <th>435858</th>\n",
              "      <td>2.438430</td>\n",
              "      <td>A9997_MisterIbu Lagos 1</td>\n",
              "    </tr>\n",
              "    <tr>\n",
              "      <th>435859</th>\n",
              "      <td>-0.279861</td>\n",
              "      <td>A9997_MisterIbu Lagos 4</td>\n",
              "    </tr>\n",
              "    <tr>\n",
              "      <th>435860</th>\n",
              "      <td>1.038944</td>\n",
              "      <td>A9998_Gordons Lagos 1</td>\n",
              "    </tr>\n",
              "    <tr>\n",
              "      <th>435861</th>\n",
              "      <td>0.235126</td>\n",
              "      <td>A9998_Gordons Lagos 3</td>\n",
              "    </tr>\n",
              "    <tr>\n",
              "      <th>435862</th>\n",
              "      <td>2.328993</td>\n",
              "      <td>A9998_Helen Paul Lagos 3</td>\n",
              "    </tr>\n",
              "    <tr>\n",
              "      <th>435863</th>\n",
              "      <td>2.328993</td>\n",
              "      <td>A9999_Helen Paul Lagos 3</td>\n",
              "    </tr>\n",
              "    <tr>\n",
              "      <th>435864</th>\n",
              "      <td>2.603852</td>\n",
              "      <td>A9999_Helen Paul Abuja 2</td>\n",
              "    </tr>\n",
              "    <tr>\n",
              "      <th>435865</th>\n",
              "      <td>1.675482</td>\n",
              "      <td>A9999_Helen Paul Abuja 5</td>\n",
              "    </tr>\n",
              "    <tr>\n",
              "      <th>435866</th>\n",
              "      <td>1.223925</td>\n",
              "      <td>A9999_Saka Lagos 1</td>\n",
              "    </tr>\n",
              "    <tr>\n",
              "      <th>435867</th>\n",
              "      <td>1.805805</td>\n",
              "      <td>A9999_Saka Ibadan 3</td>\n",
              "    </tr>\n",
              "    <tr>\n",
              "      <th>435868</th>\n",
              "      <td>-0.492576</td>\n",
              "      <td>A9999_Funny Bone Lagos 1</td>\n",
              "    </tr>\n",
              "    <tr>\n",
              "      <th>435869</th>\n",
              "      <td>1.356038</td>\n",
              "      <td>A9999_Okey Bakassi Lagos 2</td>\n",
              "    </tr>\n",
              "    <tr>\n",
              "      <th>435870</th>\n",
              "      <td>-0.322493</td>\n",
              "      <td>A9999_Okey Bakassi Abuja 3</td>\n",
              "    </tr>\n",
              "    <tr>\n",
              "      <th>435871</th>\n",
              "      <td>1.223925</td>\n",
              "      <td>A9999_MisterIbu Lagos 1</td>\n",
              "    </tr>\n",
              "    <tr>\n",
              "      <th>435872</th>\n",
              "      <td>0.351019</td>\n",
              "      <td>A9999_MisterIbu Lagos 4</td>\n",
              "    </tr>\n",
              "  </tbody>\n",
              "</table>\n",
              "<p>435873 rows × 2 columns</p>\n",
              "</div>"
            ],
            "text/plain": [
              "          Rating                 Response_ID\n",
              "0       3.579359         A1_Akpororo Lagos 1\n",
              "1       5.710098         A1_Akpororo Abuja 1\n",
              "2       4.853787         A1_Akpororo Abuja 5\n",
              "3       4.860869         A1_I Go Dye Benin 1\n",
              "4       2.851663         A1_I Go Dye Benin 3\n",
              "5       4.346045           A1_I Go Dye Uyo 1\n",
              "6       4.325154           A1_I Go Dye Uyo 2\n",
              "7       2.792288         A1_Seyi Law Abuja 3\n",
              "8       3.796023         A1_Seyi Law Abuja 4\n",
              "9       3.763130          A1_Gordons Lagos 2\n",
              "10      2.092339          A1_Gordons Lagos 4\n",
              "11      2.931662          A1_Gordons Abuja 2\n",
              "12      4.660452       A1_Helen Paul Abuja 3\n",
              "13      6.503145       A1_Helen Paul Abuja 5\n",
              "14      3.878105            A1_Saka Ibadan 3\n",
              "15      4.307155            A1_Saka Ibadan 4\n",
              "16      5.554295     A10_BasketMouth Lagos 1\n",
              "17      3.074627              A10_AY Abuja 1\n",
              "18      2.180028            A10_Bovi Abuja 4\n",
              "19      0.799651        A10_Akpororo Lagos 3\n",
              "20      1.992081        A10_Akpororo Lagos 4\n",
              "21      2.332943        A10_I Go Dye Benin 1\n",
              "22      1.192258       A100_I Go Dye Lagos 4\n",
              "23     -0.727176       A100_I Go Dye Abuja 1\n",
              "24      0.966436       A100_I Go Dye Abuja 2\n",
              "25      0.741457       A100_I Go Dye Abuja 3\n",
              "26      1.114333       A100_I Go Dye Abuja 4\n",
              "27      0.701201       A100_I Go Dye Benin 1\n",
              "28      0.463740         A100_I Go Dye Uyo 1\n",
              "29      0.986673         A100_I Go Dye Uyo 2\n",
              "...          ...                         ...\n",
              "435843  1.055774          A9995_Saka Lagos 1\n",
              "435844 -0.029367    A9995_Funny Bone Abuja 1\n",
              "435845 -1.194038  A9995_Okey Bakassi Abuja 5\n",
              "435846 -0.334914        A9996_I Go Dye Uyo 1\n",
              "435847  0.581232  A9996_Okey Bakassi Lagos 3\n",
              "435848 -0.215389  A9996_Okey Bakassi Abuja 4\n",
              "435849  1.676607    A9997_Helen Paul Lagos 3\n",
              "435850  1.925299    A9997_Helen Paul Abuja 2\n",
              "435851  1.505697    A9997_Helen Paul Abuja 4\n",
              "435852  1.488672    A9997_Helen Paul Abuja 5\n",
              "435853  2.257434         A9997_Saka Ibadan 1\n",
              "435854  1.175292         A9997_Saka Ibadan 3\n",
              "435855  0.217097    A9997_Funny Bone Lagos 2\n",
              "435856  0.380315  A9997_Okey Bakassi Lagos 4\n",
              "435857 -0.067665  A9997_Okey Bakassi Abuja 4\n",
              "435858  2.438430     A9997_MisterIbu Lagos 1\n",
              "435859 -0.279861     A9997_MisterIbu Lagos 4\n",
              "435860  1.038944       A9998_Gordons Lagos 1\n",
              "435861  0.235126       A9998_Gordons Lagos 3\n",
              "435862  2.328993    A9998_Helen Paul Lagos 3\n",
              "435863  2.328993    A9999_Helen Paul Lagos 3\n",
              "435864  2.603852    A9999_Helen Paul Abuja 2\n",
              "435865  1.675482    A9999_Helen Paul Abuja 5\n",
              "435866  1.223925          A9999_Saka Lagos 1\n",
              "435867  1.805805         A9999_Saka Ibadan 3\n",
              "435868 -0.492576    A9999_Funny Bone Lagos 1\n",
              "435869  1.356038  A9999_Okey Bakassi Lagos 2\n",
              "435870 -0.322493  A9999_Okey Bakassi Abuja 3\n",
              "435871  1.223925     A9999_MisterIbu Lagos 1\n",
              "435872  0.351019     A9999_MisterIbu Lagos 4\n",
              "\n",
              "[435873 rows x 2 columns]"
            ]
          },
          "metadata": {
            "tags": []
          },
          "execution_count": 82
        }
      ]
    },
    {
      "cell_type": "code",
      "metadata": {
        "id": "i7KUBcgQhE3j",
        "colab_type": "code",
        "outputId": "698599e3-a3b0-4422-ba9d-31e343c51ccf",
        "colab": {
          "base_uri": "https://localhost:8080/",
          "height": 127
        }
      },
      "source": [
        "submission.to_csv('dsn_2018_result_2_4021.csv', index=False, header=True)\n",
        "print(submission.head())"
      ],
      "execution_count": 0,
      "outputs": [
        {
          "output_type": "stream",
          "text": [
            "     Rating          Response_ID\n",
            "0  3.579359  A1_Akpororo Lagos 1\n",
            "1  5.710098  A1_Akpororo Abuja 1\n",
            "2  4.853787  A1_Akpororo Abuja 5\n",
            "3  4.860869  A1_I Go Dye Benin 1\n",
            "4  2.851663  A1_I Go Dye Benin 3\n"
          ],
          "name": "stdout"
        }
      ]
    },
    {
      "cell_type": "code",
      "metadata": {
        "id": "CiMURPW7Q0KH",
        "colab_type": "code",
        "colab": {}
      },
      "source": [
        "from google.colab import files\n",
        "\n",
        "# with open('example.txt', 'w') as f:\n",
        "#   f.write('some content')\n",
        "\n",
        "files.download('dsn_2018_result_2_4021.csv')"
      ],
      "execution_count": 0,
      "outputs": []
    },
    {
      "cell_type": "code",
      "metadata": {
        "id": "tk94bAgIWEQj",
        "colab_type": "code",
        "colab": {}
      },
      "source": [
        "# FinalResult=pd.DataFrame({'PassengerId':test_df[\"PassengerId\"],'Survived':Y_Pred.astype(int)})\n",
        "# FinalResult.to_csv('gender_submission.csv', index=False)\n",
        "# TestResult=pd.DataFrame(test_df)"
      ],
      "execution_count": 0,
      "outputs": []
    },
    {
      "cell_type": "code",
      "metadata": {
        "id": "bEDpRfdKX4rj",
        "colab_type": "code",
        "colab": {}
      },
      "source": [
        ""
      ],
      "execution_count": 0,
      "outputs": []
    },
    {
      "cell_type": "code",
      "metadata": {
        "id": "wdTV7bzWcGav",
        "colab_type": "code",
        "colab": {}
      },
      "source": [
        "#XGBRegressor is for continuous target/outcome variables. These are often called \"regression problems.\"\n",
        "\n",
        "#XGBClassifier is for categorical target/outcome variables. These are often called \"classification problems.\""
      ],
      "execution_count": 0,
      "outputs": []
    },
    {
      "cell_type": "code",
      "metadata": {
        "id": "JCf1-kqJdiZB",
        "colab_type": "code",
        "colab": {}
      },
      "source": [
        "!pip install -U -q PyDrive\n",
        "from pydrive.auth import GoogleAuth\n",
        "from pydrive.drive import GoogleDrive\n",
        "from google.colab import auth\n",
        "from google.colab import files\n",
        "from oauth2client.client import GoogleCredentials\n",
        "\n",
        "auth.authenticate_user()\n",
        "gauth = GoogleAuth()\n",
        "gauth.credentials = GoogleCredentials.get_application_default()\n",
        "drive = GoogleDrive(gauth)"
      ],
      "execution_count": 0,
      "outputs": []
    },
    {
      "cell_type": "code",
      "metadata": {
        "id": "PcK3Nyc0fSUc",
        "colab_type": "code",
        "colab": {}
      },
      "source": [
        "# df.to_csv('mydataframe.csv', sep='\\t')\n",
        "\n",
        "# file_list = drive.ListFile({'q': \"'root' in parents and trashed=false\"}).GetList()\n",
        "# for file1 in file_list:\n",
        "#   print('title: %s, id: %s' % (file1['title'], file1['id']))\n",
        "  \n",
        "file = drive.CreateFile({'parents':[{u'id': '1z9swU8JHkP5Xf-ycdft19e45vfbt7Pgd'}]}) \n",
        "file.SetContentFile(\"dsn_2018_result_2_4021.csv\")\n",
        "file.Upload()"
      ],
      "execution_count": 0,
      "outputs": []
    },
    {
      "cell_type": "code",
      "metadata": {
        "id": "COut-zjBF3Ba",
        "colab_type": "code",
        "colab": {}
      },
      "source": [
        ""
      ],
      "execution_count": 0,
      "outputs": []
    },
    {
      "cell_type": "code",
      "metadata": {
        "id": "YYY9ozdgFUxS",
        "colab_type": "code",
        "colab": {}
      },
      "source": [
        ""
      ],
      "execution_count": 0,
      "outputs": []
    },
    {
      "cell_type": "code",
      "metadata": {
        "id": "b8qSUy7WGCNF",
        "colab_type": "code",
        "colab": {}
      },
      "source": [
        ""
      ],
      "execution_count": 0,
      "outputs": []
    }
  ]
}